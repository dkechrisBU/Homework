{
  "nbformat": 4,
  "nbformat_minor": 0,
  "metadata": {
    "colab": {
      "provenance": []
    },
    "kernelspec": {
      "name": "python3",
      "display_name": "Python 3"
    },
    "language_info": {
      "name": "python"
    }
  },
  "cells": [
    {
      "cell_type": "markdown",
      "source": [
        "# EC523: **Problem Set 2**\n",
        "\n",
        "\n",
        "---\n",
        "\n",
        "This assignment will introduce you to:\n",
        "1. Understanding the power of ReLU activation.\n",
        "2. Implementing your own autograd.\n",
        "3. Implementing a simple MLP.\n",
        "4. Basic functionality in PyTorch\n",
        "\n",
        "$$\n",
        "\\\\\n",
        "$$\n",
        "\n",
        "**Instructions:**\n",
        "\n",
        "To run and solve this assignment, one must have a working Jupyter Notebook (.ipynb) installation. The easiest way to do this is using [Google Colab](https://colab.research.google.com/), an online Jupyter notebook environment with a nice interface and free (but limited) compute resources.\n",
        "\n",
        "For written questions, we highly encourage students to type their mathematical derivations in the cells marked <font color='blue'>**Qx.x Solution**</font> using LaTeX (most common LaTeX packages are preinstalled on Google Colab). However, you may also write your solutions by hand and scan them digitally. Please note that points may be deducted for illegible solutions.\n",
        "\n",
        "$$\n",
        "\\\\\n",
        "$$\n",
        "\n",
        "**Submission:**\n",
        "1. In the top menu bar, click **Runtime $\\rightarrow$ Run all**. A lot of the cells in this assignment will produce very different results if run twice in a row, so this is the best way to avoid this issue.\n",
        "2. Please upload the original .ipynb file and .pdf file to [Gradescope](https://www.gradescope.com/courses/718724) (Entry code: NPVN7W) by **11:59PM on Tuesday, February 20, 2024**. If you have any written solutions, please add these to your pdf file. Upon submission, please use Gradescope's functionality to assign which questions go with which pages."
      ],
      "metadata": {
        "id": "6scFfyyB2yf6"
      }
    },
    {
      "cell_type": "markdown",
      "source": [
        "---\n",
        "# **Question 1:** Universal approximation power of ReLU networks (25 points)\n",
        "\n",
        "As we dicussed in class, a two layer Neural Network (i.e., a single hidden layer) with sigmoid activation function is a universal approximator. That is, with sufficient hidden units, it can approximate any smooth, real function with desired accuracy. In this problem we want to demonstrate universal approximation power of NNs using ReLU activation units.  The setup is analogous to the sigmoid case, where we have a linear mapping with bias, followed by a componentwise ReLU activation, followed by another linear mapping with no bias."
      ],
      "metadata": {
        "id": "ctIgmzmt3U0P"
      }
    },
    {
      "cell_type": "markdown",
      "source": [
        "## **Q1.1**\n",
        "\n",
        "Show that, by composing only 2 hidden units in a ReLU network, i.e. $\\hat{y} = \\sum_{i=1}^2a_i\\ \\max (0,b_ix+c_i)$, we can build an approximation to the step function $1[x>0]$.\n",
        "The approximator should have value 1 for all values larger than some positive value $\\delta$ and decreasing linearly for any value between 0 and $\\delta$."
      ],
      "metadata": {
        "id": "gei4eIMV3jaJ"
      }
    },
    {
      "cell_type": "markdown",
      "source": [
        "#### <font color='blue'>**Q1.1 Solution**:</font>\n",
        "**Double click here to add solution**\n",
        "\n",
        "\n",
        "compound relu of 2 functions\n",
        "- i = 1; +1 slope from 0 to delta\n",
        "\n",
        "    $ 1 * \\max (0,x)$\n",
        "\n",
        "- i = 2; -1 slope when first reaches delta\n",
        "\n",
        "    $ -1 * \\max (0,x-δ)$\n",
        "\n",
        "- $\\hat{y} = \\sum_{i=1}^2a_i\\ \\max (0,b_ix+c_i)$\n",
        "$ $"
      ],
      "metadata": {
        "id": "ew4o1ZmO3-S_"
      }
    },
    {
      "cell_type": "markdown",
      "source": [
        "## **Q1.2**\n",
        "\n",
        "Show that by composing 4 hidden units in a ReLU network; we can build an approximation to the unit impulse function of duration $\\delta$\n",
        "\n",
        "\\begin{equation}\n",
        "u_\\delta(x) = 1[0\\leq x\\leq \\delta]\n",
        "\\end{equation}\n",
        "\n",
        "The approximator should have value $1$ between $\\frac{\\delta}{4}$ and $\\frac{3\\delta}{4}$ and should be increasing/decreasing on either side of this for a duration of $\\frac{\\delta}{2}$, i.e., it should be 0 for all values less than $\\frac{-\\delta}{4}$ and more than $\\frac{5\\delta}{4}$"
      ],
      "metadata": {
        "id": "Z-6DicXO4O1B"
      }
    },
    {
      "cell_type": "markdown",
      "source": [
        "#### <font color='blue'>**Q1.2 Solution**:</font>\n",
        "**Double click here to add solution**\n",
        "\n",
        "4 functions\n",
        "- function goes from 0 to 1 over a distance of δ/2 => slope = 2/δ\n",
        "- positive slope start at -δ/4\n",
        "\n",
        "    $2/δ\\max (0,x+δ/4)$\n",
        "\n",
        "- negative slope start at δ/4\n",
        "\n",
        "    $-2/δ\\max (0,x-δ/4)$\n",
        "\n",
        "- negative slope start at 3δ/4\n",
        "\n",
        "    $-2/δ\\max (0,x-3δ/4)$\n",
        "\n",
        "- positive slope start at 5δ/4\n",
        "\n",
        "    $2/δ\\max (0,x-5δ/4)$\n",
        "\n",
        "$ $\n",
        "\n"
      ],
      "metadata": {
        "id": "gZAaBajx5LIJ"
      }
    },
    {
      "cell_type": "markdown",
      "source": [
        "## **Q1.3**\n",
        "Using your approximator for the unit impulse function in **Q1.2**, complete the code below to draw the approximator for different duration values $\\delta$."
      ],
      "metadata": {
        "id": "JjH6d7gg5NSr"
      }
    },
    {
      "cell_type": "code",
      "source": [
        "import numpy as np\n",
        "import matplotlib.pyplot as plt\n",
        "\n",
        "def relu(x):\n",
        "    return np.maximum(0,x)\n",
        "\n",
        "def hat_u_delta(x,delta):\n",
        "    ## -- ! code required\n",
        "    #output = np.zeros(x.shape)\n",
        "    #output = relu(x-delta/4) + relu(x+delta/4) - relu(x+3*delta/4) + relu(x+5*delta/4)\n",
        "\n",
        "    #output = relu(x+delta/4) - relu(x-delta/4) - relu(x-3*delta/4) + relu(x-5*delta/4)\n",
        "\n",
        "    #print(\"x,delta\")\n",
        "    #print(x)\n",
        "    #print(delta)\n",
        "    #print(\"output\")\n",
        "    #print(output)\n",
        "\n",
        "    #if delta == 0:\n",
        "    #    return x*0\n",
        "    return 2/delta*(relu(x+delta/4) - relu(x-delta/4) - relu(x-3*delta/4) + relu(x-5*delta/4))\n",
        "\n",
        "\n",
        "def draw_impulse(deltas):\n",
        "    x = np.arange(-2, 2, 0.01).reshape((-1,1))\n",
        "    for delta in deltas:\n",
        "        plt.plot(x,hat_u_delta(x,delta))\n",
        "    plt.legend(['$\\delta$ = 0.5', '$\\delta$ = 0.25', '$\\delta$ = 0.05']);\n",
        "    plt.xlabel('x')\n",
        "    plt.ylabel('y');\n",
        "\n",
        "draw_impulse([0.5, 0.25, 0.05])"
      ],
      "metadata": {
        "id": "e4kCfVZp5gEa",
        "colab": {
          "base_uri": "https://localhost:8080/",
          "height": 449
        },
        "outputId": "3ac2f4f1-7169-43db-d5dc-ab17bbf1e82f"
      },
      "execution_count": 3,
      "outputs": [
        {
          "output_type": "display_data",
          "data": {
            "text/plain": [
              "<Figure size 640x480 with 1 Axes>"
            ],
            "image/png": "[encoded data removed]"
          },
          "metadata": {}
        }
      ]
    },
    {
      "cell_type": "markdown",
      "source": [
        "## **Q1.4**\n",
        "Imagine the idea of Riemann integral, where we approximate the integrand function with unit impulse functions (Fig. 1).\n",
        "We will approximate the function $f(x)$ defined over $[a,b]$, using N impulse functions as follows:\n",
        "\n",
        "$$\\hat{f(x)} = \\sum_{i=0}^{N-1} f(a + i \\delta)\\, u_\\delta(x-i\\delta), $$\n",
        "where: $$\\delta = \\lfloor \\frac{b-a}{N} \\rfloor$$\n",
        "\n",
        "![riemann-gif](https://drive.google.com/uc?id=1nY1BHbbEpdm7OE3USfc0BhbbEWlTmsvv)\n",
        "\n",
        "Using your implemented approximator for unit impulse function in **Q1.2**; complete the code given bellow to approximate the $sin(x)$ function over $[0, 2\\pi]$. The code will plot the approximation for different number of impulse functions $N$."
      ],
      "metadata": {
        "id": "ZP0IdO6X5oY5"
      }
    },
    {
      "cell_type": "code",
      "source": [
        "def f(x):\n",
        "    return np.sin(x)\n",
        "\n",
        "def hat_f(x,N,a,b):\n",
        "    #prints impulse functions starting at x by shifting the impulse to x\n",
        "    #print(\"x N a b\")\n",
        "    #print(x) #x matrix\n",
        "    #print(N) #3\n",
        "    #print(a) #0\n",
        "    #print(b) #2pi\n",
        "    xrange = np.linspace(a,b,N+1)\n",
        "    #print(xrange)\n",
        "    delta = (b - a)/(N)\n",
        "    f_hat = np.zeros((x.shape[0], x.shape[1]))\n",
        "\n",
        "\n",
        "    for i in range(0,N):\n",
        "            f_hat = f_hat + f(a + i*delta) * hat_u_delta(x- i * delta,delta)\n",
        "    #print(f_hat)\n",
        "\n",
        "    return f_hat\n",
        "\n",
        "\n",
        "    \"\"\"\n",
        "    xrange = np.linspace(a,b,N)\n",
        "    print(\"xrange\")\n",
        "    print(xrange)\n",
        "\n",
        "    #delta = np.floor((b - a)/(N))\n",
        "    delta = (b - a)/(N)\n",
        "\n",
        "    idelta = np.zeros(N-1)\n",
        "    for i in range(0,N-1):\n",
        "        idelta[i] = i*delta\n",
        "\n",
        "    #floordelta = np.floor(idelta)\n",
        "\n",
        "    newdelta = idelta[idelta[:]!=0]\n",
        "    print(\"idelta conversion\")\n",
        "    print(idelta)\n",
        "    #print(floordelta)\n",
        "    print(newdelta)\n",
        "\n",
        "    faidelta = f(a+newdelta)\n",
        "    print(\"faidelta\")\n",
        "    print(faidelta)\n",
        "\n",
        "    u_delta = hat_u_delta(x,newdelta)\n",
        "    print(\"u_delta\")\n",
        "    print(u_delta)\n",
        "\n",
        "    output = np.sum(faidelta*u_delta,axis = 1)\n",
        "    print(\"output\")\n",
        "    print(output)\n",
        "    return output\n",
        "    \"\"\"\n",
        "\n",
        "    \"\"\"\n",
        "    #number of impulses to create\n",
        "    #evaluate at each x(N) to get the height to pulse at\n",
        "    xrange = np.linspace(a,b,N+1)\n",
        "    xval = f(xrange)\n",
        "    #print(\"xrange\")\n",
        "    #print(xrange)\n",
        "    #print(xval)\n",
        "\n",
        "    #DON'T FORGET TO FLOOR\n",
        "    delta = np.floor((b - a)/(N+1))\n",
        "\n",
        "    x_delta =  hat_u_delta(x,delta)\n",
        "\n",
        "    xout = np.zeros(x.shape)\n",
        "    currentindex = 0\n",
        "    for i in range(0,x.shape[0]):\n",
        "        #if currentindex == 0:\n",
        "        #    xout[i] = x_delta[i]\n",
        "        #elif currentindex < xrange.shape[0]:\n",
        "        if currentindex < xrange.shape[0]:\n",
        "            xout[i] = xval[currentindex]\n",
        "        else:\n",
        "            xout[i] = xval[xrange.shape[0] - 1]\n",
        "        if currentindex < xrange.shape[0]-1:\n",
        "            if x[i] > xrange[currentindex+1]:\n",
        "                currentindex = currentindex + 1\n",
        "\n",
        "    return xout\n",
        "    #hight corrected impulse\n",
        "    xdelta = np.zeros((x[0], N))\n",
        "\n",
        "    for i in xdelta.shape[1]:\n",
        "        xdelta[:,i] = hat_u_delta(x,abn)*xrange[i]\n",
        "    print(xout)\n",
        "\n",
        "    # x correct impulse\n",
        "    xshifted = np.zeros((x[0], n))\n",
        "\n",
        "    for i in xdelta.shape[0]:\n",
        "        for j in xdelta.shape[1]:\n",
        "            if x[i] > j * abn - .25 * abn:\n",
        "                xshifted[i] =\n",
        "            if x[i] > j * abn + .25 * abn:\n",
        "\n",
        "            if x[i] > j * abn + .75 * abn:\n",
        "\n",
        "            if x[i] > j * abn + 1.25 * abn:\n",
        "\n",
        "\n",
        "\n",
        "    xout = max(xout)\n",
        "    print(xout)\n",
        "    return xout\n",
        "\n",
        "    #change the hat_u_delta f() function to be a width to use and not a value\n",
        "    xthreshold = hat_u_delta(xrange,f(xrange))\n",
        "    print(\"xthreshold\")\n",
        "    print(xthreshold)\n",
        "    output = np.zeros(x.shape)\n",
        "    currentindex = 0\n",
        "    print(xthreshold.shape)\n",
        "    for i in range(0,x.shape[0]-1):\n",
        "        if currentindex == xthreshold.shape[0]-1:\n",
        "            pass\n",
        "        elif x[i] >= xthreshold[currentindex+1]:\n",
        "            currentindex = currentindex + 1\n",
        "        output[i] = xthreshold[currentindex]\n",
        "\n",
        "    for i in range(0, x.shape[0]-1):\n",
        "        for j in range(1, xthreshold.shape[0]-1):\n",
        "            if j + 1 > xthreshold.shape[0]:\n",
        "                output[i] = xthreshold[j]\n",
        "            elif x[i] < xthreshold[j]:\n",
        "                output[i] = xthreshold[j-1]\n",
        "            else:\n",
        "                break\n",
        "    print(output)\n",
        "    total = np.array([x, output])\n",
        "    print(total)\n",
        "    return output\n",
        "\n",
        "    #xrange = np.linspace(a,b,N,retstep=True)\n",
        "    #print(xrange)\n",
        "    #return hat_u_delta(xrange[0], xrange[1])\"\"\"\n",
        "\n",
        "def draw_hat_f(N,a,b):\n",
        "    x = np.arange(a, 1.5*b, 0.01).reshape((-1,1))\n",
        "    plt.plot(x,f(x))\n",
        "    for n in N:\n",
        "        y = hat_f(x,n,a,b)\n",
        "        plt.plot(x,y);\n",
        "    plt.legend([\"f(x)\"]+[\"N = \" + str(n) for n in N],loc = 'upper right')\n",
        "\n",
        "draw_hat_f([3,10,20],0,2*3.15)"
      ],
      "metadata": {
        "id": "Ejowp-SQ6AKb",
        "colab": {
          "base_uri": "https://localhost:8080/",
          "height": 430
        },
        "outputId": "cba8fb0e-165a-4b02-b519-5b6ea18368fe"
      },
      "execution_count": 4,
      "outputs": [
        {
          "output_type": "display_data",
          "data": {
            "text/plain": [
              "<Figure size 640x480 with 1 Axes>"
            ],
            "image/png": "[encoded data removed]"
          },
          "metadata": {}
        }
      ]
    },
    {
      "cell_type": "markdown",
      "source": [
        "## **Q1.5**\n",
        "Now consider using a polynomial activation function as opposed to the ReLU activation considered earlier (or the sigmoid activation that was discussed in class).  In this case, one can show that *no polynomial function* used as an activation can yield universality in a single hidden-unit network.  For concreteness and simplicity, let us consider using a simple quadratic activation function as follows:\n",
        "\n",
        "$$\\sigma(x) = x^2 + x + 1$$\n",
        "\n",
        "This activation function is non-linear and will be applied componentwise at the hidden layer.  To demonstrate that this cannot be used as a universal approximator, consider the case where the input dimension is 1, and give an example of a function which such a network would not be able to approximate well.  (Hint: write down the form of the output $\\hat{y}$ in this model.)\n",
        "\n"
      ],
      "metadata": {
        "id": "pPCoG2k-6G-L"
      }
    },
    {
      "cell_type": "markdown",
      "source": [
        "#### <font color='blue'>**Q1.5 Solution**:</font>\n",
        "\n",
        "$y = sin(x)$ cannot be approximated by a single hidden layer of:\n",
        "\n",
        "$$\\sigma(x) = x^2 + x + 1$$.\n",
        "\n",
        "Regardless of the weights, a maximum of 2 segments of sin(x) can be approximated correctly, corresponding to either one continuous peak/valley or two sides of the parabola."
      ],
      "metadata": {
        "id": "ucAo8aho6UVV"
      }
    },
    {
      "cell_type": "markdown",
      "source": [
        "## **Q1.6 (Bonus)**\n",
        "\n",
        "While one cannot show that a polynomial function can be used as an activation function in a single hidden-layer network to approximate an arbitrary smooth function, if we allow the depth of the network to increase without bound (analogous to how we let the width of the network increase to prove universality earlier), then in this case one *can* show universality of the resulting model.\n",
        "\n",
        "Consider the quadratic activation function from the previous question, and show that if we allow the depth to increase in this model (where each layer is a linear function with bias followed by the quadratic activation function), then the resulting network can approximate any continuous real-valued function on a compact domain."
      ],
      "metadata": {
        "id": "1BbC78jm6dWR"
      }
    },
    {
      "cell_type": "markdown",
      "source": [
        "#### <font color='blue'>**Q1.6 Solution**:</font>\n",
        "\n",
        "Use each layer as another approximation of sin(x) further away from the approximation point, similar to a taylor series approximation"
      ],
      "metadata": {
        "id": "b3xgMwxM7XmK"
      }
    },
    {
      "cell_type": "markdown",
      "source": [
        "---\n",
        "# **Question 2:** Autograd Implementation\n",
        "\n",
        "In class, we discussed the forward and backward passes that take place when training a neural network.\n",
        "\n",
        "Recall the forward pass, also called *forward-propagation*, is straight-forward; we pass the input through a network layer and calculate the output based on the layer's function and parameters. This will be implemented in the `forward()` method.\n",
        "\n",
        "The backward pass, also termed *back-propagation*, is used for updating the parameters of a layer based on the loss function. During the backwards pass, a few key things need to happen for each layer:\n",
        "1. The gradient of the layer's function is computed, with respect to either the layer's parameters (for linear, bias, etc.) or its inputs (activation functions, loss functions)\n",
        "2. The gradient calculated in step 1 is multiplied with the gradients of the layers that come after it. That is, the gradient of the $i$th is multiplied by the gradient of the $(i+1)$th layer, the gradient of the $(i+2)$th layer, and so on until the loss function which is the last layer.\n",
        "3. This gradient is passed to the preceeding ($(i-1)$th) layer.\n",
        "\n",
        "The backward pass will be implemented in the `backward()` method.\n",
        "\n",
        "In this problem, we will implement both `forward()` and `backward()` functions for some of the most commonly used layers including: linear, bias, ReLU, sigmoid, and mean square error (MSE) loss."
      ],
      "metadata": {
        "id": "ClssVlttDG1l"
      }
    },
    {
      "cell_type": "code",
      "source": [
        "'''backprop implementation with layer abstraction.\n",
        "This could be made more complicated by keeping track of an actual DAG of\n",
        "operations, but this way is not too hard to implement.\n",
        "'''\n",
        "import numpy as np\n",
        "\n",
        "\n",
        "class Layer:\n",
        "    '''A layer in a network.\n",
        "\n",
        "    A layer is simply a function mapping inputs from R^n to R^d for some\n",
        "    specified n and d. A neural network can usually be written as a sequence of\n",
        "    layers -- eg. for input x in R^n, a 3 layer neural network might be:\n",
        "\n",
        "    L3(L2(L1(x)))\n",
        "\n",
        "    We can also view the loss function as itself a layer, so that the loss\n",
        "    of the network is:\n",
        "\n",
        "    Loss(L3(L2(L1(x))))\n",
        "\n",
        "    This class is a base class used to represent different kinds of layer\n",
        "    functions. We will eventually specify a neural network and its loss function\n",
        "    with a list:\n",
        "\n",
        "    [L1, L2, L3, Loss]\n",
        "\n",
        "    where L1, L2, L3, Loss are all Layer objects.\n",
        "\n",
        "    Each Layer object implements a function called 'forward'. forward simply\n",
        "    computes the output of a layer given its input. So instead of\n",
        "    Loss(L3(L2(L1(x))), we write\n",
        "    Loss.forward(L3.forward(L2.forward(L1.forward(x)))).\n",
        "    Doing this computation finishes the forward pass of backprop.\n",
        "\n",
        "    Each layer also implements a function called 'backward'. Backward is\n",
        "    responsible for the backward pass of backprop. After we have computed the\n",
        "    forward pass, we compute\n",
        "    L1.backward(L2.backward(L3.backward(Loss.backward(1))))\n",
        "    We give 1 as the input to Loss.backward because backward is implementing\n",
        "    the chain rule - it multiplies gradients together and so giving 1 as an\n",
        "    input makes the multiplication an identity operation.\n",
        "\n",
        "    The outputs of backward are a little subtle. Some layers may have a\n",
        "    parameter that specifies the function being computed by the layer. For\n",
        "    example, a Linear layer maintains a weight matrix, so that\n",
        "    Linear(x) = xW\n",
        "    for some matrix W.\n",
        "    The input to backward should be the gradient of the final loss with respect\n",
        "    to the output of the current layer. The output of backprop should be the\n",
        "    gradient of the final loss with respect to the input of the current layer,\n",
        "    which is just the output of the previous layer. This is why it is correct\n",
        "    to chain the outputs of backprop together. However, backward should ALSO\n",
        "    compute the gradient of the loss with respect to the current layer's\n",
        "    parameter and store this internally to be used in training.\n",
        "    '''\n",
        "    def __init__(self, parameter=None, name=None):\n",
        "        self.name = name\n",
        "        self.forward_called = False\n",
        "        self.parameter = parameter\n",
        "        self.grad = None\n",
        "\n",
        "    def zero_grad(self):\n",
        "        self.grad = None\n",
        "\n",
        "    def forward(self, input):\n",
        "        '''forward pass. Should compute layer and save relevant state\n",
        "        needed for backward pass.\n",
        "        Args:\n",
        "            input: input to this layer.\n",
        "        returns output of operation.\n",
        "        '''\n",
        "        raise NotImplementedError\n",
        "\n",
        "    def backward(self, downstream_grad):\n",
        "        '''Performs backward pass.\n",
        "\n",
        "        This function should also set self.grad to be the gradient of the final\n",
        "        output of the computation with respect to the parameter.\n",
        "\n",
        "        Args:\n",
        "            downstream_grad: gradient from downstream operation in the\n",
        "                computation graph. This package will only consider\n",
        "                computation graphs that result in scalar outputs at the final\n",
        "                node (e.g. loss function computations). As a result,\n",
        "                the dimension of downstream_grad should match the dimension of\n",
        "                the output of this layer.\n",
        "\n",
        "                Formally, if this operation computes F(x), and the final\n",
        "                computation computes a scalar, G(F(x)), then input_grad is\n",
        "                dG/dF.\n",
        "        returns:\n",
        "            gradient to pass to upstream layers. If the layer computes F(x, w),\n",
        "            where x is the input and w is the parameter of the layer, then\n",
        "            the return value should be dF(x,w)/dx * downstream_grad. Here,\n",
        "            x is in R^n, F(x, w) is in R^m, dF(x, w)/dx is a matrix in R^(n x m)\n",
        "            downstream_grad is in R^m and * indicates matrix multiplication.\n",
        "\n",
        "        We should also compute the gradient with respect to the parameter w.\n",
        "        Again by chain rule, this is dF(x, w)/dw * downstream_grad\n",
        "        '''\n",
        "        raise NotImplementedError\n"
      ],
      "metadata": {
        "id": "zwWHD1C8lA1s"
      },
      "execution_count": null,
      "outputs": []
    },
    {
      "cell_type": "markdown",
      "source": [
        "Below shows an example of the full implementation of the Bias layer, including the forward and backward function. Notice `self.grad` stores the gradient of the loss with respect to the current layer's parameter."
      ],
      "metadata": {
        "id": "PvcrPMTNlXvt"
      }
    },
    {
      "cell_type": "code",
      "source": [
        "class Bias(Layer):\n",
        "    '''adds a constant bias.'''\n",
        "\n",
        "    def __init__(self, bias, name=\"bias\"):\n",
        "        super(Bias, self).__init__(np.squeeze(bias), name)\n",
        "        self.parameter = np.squeeze(bias)\n",
        "\n",
        "    def forward(self, input):\n",
        "        self.input = input\n",
        "        return self.parameter + self.input\n",
        "\n",
        "    def backward(self, downstream_grad):\n",
        "        self.grad = np.sum(downstream_grad, tuple(range(downstream_grad.ndim - self.parameter.ndim)))\n",
        "        return downstream_grad\n"
      ],
      "metadata": {
        "id": "VkJ1ktZflvEB"
      },
      "execution_count": null,
      "outputs": []
    },
    {
      "cell_type": "markdown",
      "source": [
        "## **Q2.1** Multiplication Layers"
      ],
      "metadata": {
        "id": "m2k-LTXwl_MO"
      }
    },
    {
      "cell_type": "markdown",
      "source": [
        "\n",
        "#### **Q2.1.1**\n",
        "Let's start with the basic linear layer and bias layer. Show the derivatives of both the linear and bias layers with respect to $X$.\n",
        "\n",
        "$$\n",
        "Z_{linear} = WX \\\\\n",
        "Z_{bias} = X + b\n",
        "$$"
      ],
      "metadata": {
        "id": "UICLdQeAosav"
      }
    },
    {
      "cell_type": "markdown",
      "source": [
        "#### <font color='blue'>**Q2.1.1 Solution**:</font>\n",
        "**Double click here to add solution**\n",
        "\n",
        "$$\n",
        "Z_{linear} = WX \\\\\n",
        "\\frac{dZ_{linear}}{dX} = \\frac{d(WX)}{dX} \\\\\n",
        "\\frac{dZ_{linear}}{dX} = W \\\\\n",
        "$$\n",
        "\n",
        "$$\n",
        "Z_{bias} = X + b \\\\\n",
        "\\frac{dZ_{bias}}{dX} = \\frac{d(X + b)}{dX} \\\\\n",
        "\\frac{dZ_{bias}}{dX} = 1\n",
        "$$\n"
      ],
      "metadata": {
        "id": "gtrUKXzjoZmy"
      }
    },
    {
      "cell_type": "markdown",
      "source": [
        "#### **Q2.1.2**\n",
        "\n",
        "Complete the `forward()` and `backward()` function of the linear layer.\n",
        "\n",
        "In `backward()`, you should ALSO set the `self.grad` to be the gradient of the loss with respect to the current layer's parameter."
      ],
      "metadata": {
        "id": "pmwxOcbjohdM"
      }
    },
    {
      "cell_type": "code",
      "source": [
        "class Linear(Layer):\n",
        "    '''Linear layer. Parameter is NxM matrix L, input is matrix v of size B x N\n",
        "    where B is batch size, output is vL.'''\n",
        "\n",
        "    def __init__(self, weights, name=\"Linear\"):\n",
        "        super(Linear, self).__init__(weights, name)\n",
        "        self.parameter = weights\n",
        "\n",
        "    def forward(self, input):\n",
        "        print(\"linear forward\")\n",
        "        print(input.shape)\n",
        "        print(input)\n",
        "        self.input = input\n",
        "        return  input @ self.parameter\n",
        "\n",
        "    def backward(self, downstream_grad):\n",
        "        '''downstream_grad should be NxB.'''\n",
        "        print(\"linear backward grad\")\n",
        "        #print(downstream_grad.shape)\n",
        "        #print(downstream_grad)\n",
        "        if len(downstream_grad.shape) != 2:\n",
        "            downstream_grad = np.reshape(\n",
        "                downstream_grad, (len(downstream_grad), 1))\n",
        "            print(\"reshape\")\n",
        "        print(downstream_grad.shape)\n",
        "        print(downstream_grad)\n",
        "        #code required\n",
        "        #self.grad = self.input @ downstream_grad\n",
        "        #self.grad = np.sum(downstream_grad, tuple(range(downstream_grad.ndim - self.weights.ndim))) @ self.input\n",
        "        #self.grad = self.input.T @  np.sum(downstream_grad, tuple(range(downstream_grad.ndim - self.parameter.ndim)))\n",
        "\n",
        "        #print(np.sum(downstream_grad, tuple(range(downstream_grad.ndim - self.weights.ndim))))\n",
        "        #self.grad = np.sum(downstream_grad, tuple(range(downstream_grad.ndim - self.weights.ndim))) @ self.weights.T\n",
        "        #print(self.grad)\n",
        "\n",
        "        self.grad = self.input.T @ downstream_grad\n",
        "        print(\"self.grad\")\n",
        "        print(self.grad)\n",
        "\n",
        "\n",
        "        print(\"post self.grad\")\n",
        "        gradient = self.parameter.T\n",
        "        print(\"weights\")\n",
        "        print(gradient)\n",
        "        print(\"downstream grad\")\n",
        "        print(downstream_grad)\n",
        "        #print(gradient @ downstream_grad)\n",
        "        #return  gradient @ downstream_grad\n",
        "        print( downstream_grad @ gradient)\n",
        "        return downstream_grad @ gradient\n"
      ],
      "metadata": {
        "id": "ZiQFbzWCpUGR"
      },
      "execution_count": null,
      "outputs": []
    },
    {
      "cell_type": "code",
      "source": [
        "class Linear(Layer):\n",
        "    '''Linear layer. Parameter is NxM matrix L, input is matrix v of size B x N\n",
        "    where B is batch size, output is vL.'''\n",
        "\n",
        "    def __init__(self, weights, name=\"Linear\"):\n",
        "        super(Linear, self).__init__(weights, name)\n",
        "        self.parameter = weights\n",
        "\n",
        "    def forward(self, input):\n",
        "        self.input = input\n",
        "        return  input @ self.parameter\n",
        "\n",
        "    def backward(self, downstream_grad):\n",
        "        '''downstream_grad should be NxB.'''\n",
        "        if len(downstream_grad.shape) != 2:\n",
        "            downstream_grad = np.reshape(\n",
        "                downstream_grad, (len(downstream_grad), 1))\n",
        "            print(\"reshape\")\n",
        "\n",
        "        #self.grad = self.input.T @  np.sum(downstream_grad, tuple(range(downstream_grad.ndim - self.parameter.ndim)))\n",
        "        self.grad = self.input.T @ downstream_grad\n",
        "\n",
        "        gradient = self.parameter.T\n",
        "        return downstream_grad @ gradient\n"
      ],
      "metadata": {
        "id": "6pwIZOg1gVkL"
      },
      "execution_count": null,
      "outputs": []
    },
    {
      "cell_type": "markdown",
      "source": [
        "## **Q2.2** Activation Layers"
      ],
      "metadata": {
        "id": "wAjGQKQnpk6F"
      }
    },
    {
      "cell_type": "markdown",
      "source": [
        "#### **Q2.2.1**\n",
        "\n",
        "Now let's look at the activation layers. Show the derivatives of ReLU, sigmoid, and Leaky ReLU.\n",
        "\n",
        "$$\n",
        "\\text{ReLU}(x) = \\max (0,x) \\\\\n",
        "\\sigma(x)=\\frac{1}{1+e^{-x}} \\\\\n",
        "\\text{LeakyReLU}(x) = \\max (0.01x,x) \\\\\n",
        "$$\n",
        "cacsavavdacascaccsacsacsacsadwadadsadsadsadawdwada\n",
        "Hint: Let's assume the gradient of ReLU is 0 when $x$ is 0 and the gradient of LeakyReLU is consistent for all values $x\\leq0$"
      ],
      "metadata": {
        "id": "bmrIrEb2pqkP"
      }
    },
    {
      "cell_type": "markdown",
      "source": [
        "#### <font color='blue'>**Q2.2.1 Solution**:</font>\n",
        "**Double click here to add solution**\n",
        "\n",
        "\n",
        "$$\n",
        "\\text{ReLU}(x) = \\max (0,x) \\\\\n",
        "\\frac{d\\text{ReLU}(x)}{dX} = \\frac{d\\max (0,x)}{dX} \\\\\n",
        "= \\begin{cases}\n",
        "    0 & \\text{if } x \\leq 0 \\\\\n",
        "    1 & \\text{if } x > 0\n",
        "\\end{cases}\n",
        "$$\n",
        "\n",
        ".\n",
        "\n",
        "$$\n",
        "\\sigma(x)=\\frac{1}{1+e^{-x}} \\\\\n",
        "\\frac{d\\sigma(x)}{dX} = \\frac{d(\\frac{1}{1+e^{-x}})}{dX} \\\\\n",
        " = \\frac{d({1+e^{-x}})^{-1}}{dX} \\\\\n",
        " = -1*({1+e^{-x}})^{-2}*(-e^{-x}) \\\\\n",
        " = -1*(-e^{-x})*({1+e^{-x}})^{-2} \\\\\n",
        " = \\frac{-1}{({1+e^{-x}})}*\\frac{(-e^{-x})}{({1+e^{-x}})} \\\\\n",
        " = \\frac{1}{({1+e^{-x}})}*\\frac{(e^{-x})}{({1+e^{-x}})} \\\\\n",
        " = \\frac{1}{({1+e^{-x}})}*\\frac{(e^{-x})+1-1}{({1+e^{-x}})} \\\\\n",
        " = \\frac{1}{({1+e^{-x}})}*\\frac{(1+e^{-x})-1}{({1+e^{-x}})} \\\\\n",
        " = \\frac{1}{({1+e^{-x}})}*(\\frac{(1+e^{-x})}{({1+e^{-x}})}+\\frac{-1}{({1+e^{-x}})}) \\\\\n",
        " = \\frac{1}{({1+e^{-x}})}*(1-\\frac{-1}{({1+e^{-x}})}) \\\\\n",
        " = σ(x)*(1-σ(x)) \\\\\n",
        "$$\n",
        "\n",
        ".\n",
        "\n",
        "$$\n",
        "\\text{LeakyReLU}(x) = \\max (0.01x,x) \\\\\n",
        "\\frac{d\\text{LeakyReLU}(x)}{dX} = \\frac{d\\max (0.01x,x)}{dX} \\\\\n",
        " = \\begin{cases}\n",
        "    0 & \\text{if } x \\leq 0 \\\\\n",
        "    1 & \\text{if } x > 0\n",
        "\\end{cases}\n",
        "$$"
      ],
      "metadata": {
        "id": "rS_SYy-kqZ20"
      }
    },
    {
      "cell_type": "markdown",
      "source": [
        "#### **Q2.2.2**\n",
        "\n",
        "Complete the `forward()` and `backward()` functions for each of the three layers. There is no need to update `self.grad` since there is no parameter in activation layers."
      ],
      "metadata": {
        "id": "nkuyDBkSqc6q"
      }
    },
    {
      "cell_type": "code",
      "source": [
        "class ReLU(Layer):\n",
        "    '''ReLU layer. No parameters.'''\n",
        "\n",
        "    def __init__(self, name=\"ReLU\"):\n",
        "        super(ReLU, self).__init__(name=name)\n",
        "\n",
        "    def forward(self, input):\n",
        "        print(\"ReLU forward\")\n",
        "        print(input.shape)\n",
        "        print(input)\n",
        "        ## -- ! code required\n",
        "        self.input = input\n",
        "        print(np.maximum(0,input))\n",
        "        return np.maximum(0,input)\n",
        "\n",
        "\n",
        "    def backward(self, downstream_grad):\n",
        "        print(\"ReLU backward grad\")\n",
        "        print(downstream_grad.shape)\n",
        "        print(downstream_grad)\n",
        "        ## -- ! code required\n",
        "        #gradient = self.input>0\n",
        "        gradient = np.where(self.input > 0, 1,0)\n",
        "        print(\"gradient calc\")\n",
        "        print(self.input)\n",
        "        print(gradient)\n",
        "        print(gradient * downstream_grad)\n",
        "        return gradient * downstream_grad\n",
        "\n",
        "\n",
        "\n",
        "class Sigmoid(Layer):\n",
        "    '''Sigmoid layer. No parameters.'''\n",
        "\n",
        "    def __init__(self, name=\"Sigmoid\"):\n",
        "        super(Sigmoid, self).__init__(name=name)\n",
        "\n",
        "    def forward(self, input):\n",
        "        print(\"Sigmoid forward\")\n",
        "        print(input.shape)\n",
        "        print(input)\n",
        "        ## -- ! code required\n",
        "        self.input = input\n",
        "        return 1/(1+np.exp(-self.input))\n",
        "\n",
        "    def backward(self, downstream_grad):\n",
        "        print(\"Sigmoid backward grad\")\n",
        "        print(downstream_grad.shape)\n",
        "        print(downstream_grad)\n",
        "        ## -- ! code required\n",
        "        print(1/(1+np.exp(-self.input)))\n",
        "        print(1 - 1/(1+np.exp(-self.input)))\n",
        "        gradient = 1/(1+np.exp(-self.input)) * (1 - 1/(1+np.exp(-self.input)))\n",
        "        print(self.input)\n",
        "        print(gradient)\n",
        "        print(gradient * downstream_grad)\n",
        "        return gradient * downstream_grad\n",
        "\n",
        "\n",
        "\n",
        "class LeakyReLU(Layer):\n",
        "    '''LeakyReLU layer. No parameters.'''\n",
        "    def __init__(self, alpha=0.01, name='LeakyReLU'):\n",
        "        super(LeakyReLU, self).__init__(name=name)\n",
        "        self.alpha = alpha\n",
        "\n",
        "    def forward(self, input):\n",
        "        print(\"LeakyRelU forward\")\n",
        "        print(input.shape)\n",
        "        print(input)\n",
        "        ## -- ! code required\n",
        "        self.input = input\n",
        "        print(np.maximum(0,input))\n",
        "        return np.max(self.alpha,input)\n",
        "\n",
        "    def backward(self, downstream_grad):\n",
        "        print(\"LeakyRelu backward grad\")\n",
        "        print(downstream_grad.shape)\n",
        "        print(downstream_grad)\n",
        "        ## -- ! code required\n",
        "        gradient = np.where(self.input <= 0, 0,1)\n",
        "        print(self.input)\n",
        "        print(gradient)\n",
        "        print(gradient * downstream_grad)\n",
        "        return gradient * downstream_grad\n"
      ],
      "metadata": {
        "id": "QqBelyb6qn_t"
      },
      "execution_count": null,
      "outputs": []
    },
    {
      "cell_type": "code",
      "source": [
        "class ReLU(Layer):\n",
        "    '''ReLU layer. No parameters.'''\n",
        "\n",
        "    def __init__(self, name=\"ReLU\"):\n",
        "        super(ReLU, self).__init__(name=name)\n",
        "\n",
        "    def forward(self, input):\n",
        "        self.input = input\n",
        "        return np.maximum(0,input)\n",
        "\n",
        "    def backward(self, downstream_grad):\n",
        "        gradient = np.where(self.input > 0, 1, 0)\n",
        "        # gradient = np.where(self.input > 0, self.input, 0)\n",
        "        return gradient * downstream_grad\n",
        "\n",
        "\n",
        "\n",
        "class Sigmoid(Layer):\n",
        "    '''Sigmoid layer. No parameters.'''\n",
        "\n",
        "    def __init__(self, name=\"Sigmoid\"):\n",
        "        super(Sigmoid, self).__init__(name=name)\n",
        "\n",
        "    def forward(self, input):\n",
        "        self.input = input\n",
        "        return 1/(1+np.exp(-self.input))\n",
        "\n",
        "    def backward(self, downstream_grad):\n",
        "        gradient = 1/(1+np.exp(-self.input)) * (1 - 1/(1+np.exp(-self.input)))\n",
        "        return gradient * downstream_grad\n",
        "\n",
        "\n",
        "\n",
        "class LeakyReLU(Layer):\n",
        "    '''LeakyReLU layer. No parameters.'''\n",
        "    def __init__(self, alpha=0.01, name='LeakyReLU'):\n",
        "        super(LeakyReLU, self).__init__(name=name)\n",
        "        self.alpha = alpha\n",
        "\n",
        "    def forward(self, input):\n",
        "        self.input = input\n",
        "        return np.max(self.alpha,input)\n",
        "\n",
        "    def backward(self, downstream_grad):\n",
        "        gradient = np.where(self.input <= 0, 0,1)\n",
        "        return gradient * downstream_grad\n"
      ],
      "metadata": {
        "id": "XiyfzXrbgmzn"
      },
      "execution_count": null,
      "outputs": []
    },
    {
      "cell_type": "markdown",
      "source": [
        "## **Q2.3**  Loss Layers"
      ],
      "metadata": {
        "id": "m1330xVLqvoz"
      }
    },
    {
      "cell_type": "markdown",
      "source": [
        "#### **Q2.3.1**\n",
        "\n",
        "Define the mean square error (MSE) loss as follows:\n",
        "\n",
        "$$\n",
        "\\text{MSE} (\\hat y) = \\frac{1}{2N}\\sum_{i=1}^N(y_i - \\hat y_i)^2\n",
        "$$\n",
        "\n",
        "Where $y$ is the label and $\\hat y$ is your prediction. Show the gradient of MSE loss with respect to the prediction $\\hat y$."
      ],
      "metadata": {
        "id": "CJCBJzCiq6xM"
      }
    },
    {
      "cell_type": "markdown",
      "source": [
        "#### <font color='blue'>**Q2.3.1 Solution**:</font>\n",
        "**Double click here to add solution**"
      ],
      "metadata": {
        "id": "Qyr_ppNorlAt"
      }
    },
    {
      "cell_type": "markdown",
      "source": [
        "#### **Q2.3.2**\n",
        "Complete the `forward()` and `backward()` functions. There is no need to update `self.grad` here either since there is no parameter in MSE loss.\n",
        "\n",
        "$$\n",
        "\\text{MSE} (\\hat y) = \\frac{1}{2N}\\sum_{i=1}^N(y_i - \\hat y_i)^2 \\\\\n",
        "\\frac{d\\text{MSE}}{d\\hat y} (\\hat y) = \\frac{d(\\frac{1}{2N}\\sum_{i=1}^N(y_i - \\hat y_i)^2)}{d\\hat y} \\\\\n",
        " = \\frac{1}{2N}\\sum_{i=1}^N(2)*(y_i - \\hat y_i)*(-1) \\\\\n",
        " = \\frac{-2}{2N}\\sum_{i=1}^N(y_i - \\hat y_i) \\\\\n",
        " = \\frac{-1}{N}\\sum_{i=1}^N(y_i - \\hat y_i) \\\\\n",
        "$$"
      ],
      "metadata": {
        "id": "GZ9igKKzrqUX"
      }
    },
    {
      "cell_type": "code",
      "source": [
        "class MeanSquaredError(Layer):\n",
        "    '''lean squared error loss'''\n",
        "\n",
        "    def __init__(self, labels, name=\"Mean Squared Error\"):\n",
        "        super(MeanSquaredError, self).__init__(name=\"Mean Squared Error\")\n",
        "        self.labels = labels\n",
        "\n",
        "    def forward(self, input):\n",
        "        print(\"MSE forward\")\n",
        "        print(input.shape)\n",
        "        print(input)\n",
        "        '''input is BxN, output is B'''\n",
        "        ## -- ! code required\n",
        "        self.input = input\n",
        "        MSE = 1/(2*self.input.shape[0]) * np.sum((self.labels - self.input)**2)\n",
        "        #MSE = 1/2*input.shape[0] * ((self.labels - input)**2)\n",
        "        print(\"MSE\")\n",
        "        print(MSE)\n",
        "        return MSE\n",
        "\n",
        "    def backward(self, downstream_grad):\n",
        "        print(\"MSE backward grad\")\n",
        "        print(downstream_grad.shape)\n",
        "        print(downstream_grad)\n",
        "        ## -- ! code required\n",
        "\n",
        "        #gradient = -1/self.input.shape[0] * np.sum((self.labels - self.input))\n",
        "        #not summing to have a 3x1 downstream matrix\n",
        "        gradient = -1/self.input.shape[0] * (self.labels - self.input)\n",
        "\n",
        "\n",
        "        print(gradient)\n",
        "        print(gradient * downstream_grad)\n",
        "        #print(gradient @ downstream_grad)\n",
        "        return gradient * downstream_grad"
      ],
      "metadata": {
        "id": "_DAK3O5ir9OY"
      },
      "execution_count": null,
      "outputs": []
    },
    {
      "cell_type": "code",
      "source": [
        "class MeanSquaredError(Layer):\n",
        "    '''lean squared error loss'''\n",
        "\n",
        "    def __init__(self, labels, name=\"Mean Squared Error\"):\n",
        "        super(MeanSquaredError, self).__init__(name=\"Mean Squared Error\")\n",
        "        self.labels = labels\n",
        "\n",
        "    def forward(self, input):\n",
        "        '''input is BxN, output is B'''\n",
        "        self.input = input\n",
        "        MSE = 1/(2*self.input.shape[0]) * np.sum((self.labels - self.input)**2)\n",
        "        return MSE\n",
        "\n",
        "    def backward(self, downstream_grad):\n",
        "        gradient = -1/self.input.shape[0] * (self.labels - self.input)\n",
        "        return gradient * downstream_grad"
      ],
      "metadata": {
        "id": "wgiAMIArg4Rn"
      },
      "execution_count": null,
      "outputs": []
    },
    {
      "cell_type": "markdown",
      "source": [
        "## **Q2.4**\n",
        "\n",
        "Now let's build a simple model using your layers, and compare the autograd results with the numeric derivatives. If everything is implemented correctly, the autograd results should be very closed to the numeric gradients."
      ],
      "metadata": {
        "id": "fYBVrTOMsDtC"
      }
    },
    {
      "cell_type": "code",
      "source": [
        "# This function computes the derivative numerically using the formula (f(x+delta) - f(x))/delta with small delta. First, we would compute\n",
        "# f(x) which is the original output. Then we perturb the input by a small delta then compute f(x+delta). Finally, we calculate\n",
        "# the difference and divide by delta to get the derivative.\n",
        "def numerical_derivative(layers, input):\n",
        "    base_output = forward_layers(layers, input)\n",
        "    delta = 1e-7\n",
        "\n",
        "    for layer in layers:\n",
        "        if layer.parameter is None:\n",
        "            continue\n",
        "        size = layer.parameter.size # total number of params\n",
        "        shape = layer.parameter.shape # shape of params\n",
        "        base_param = np.copy(layer.parameter)\n",
        "\n",
        "        perturb = np.zeros(size)\n",
        "        grad = np.zeros(size)\n",
        "\n",
        "        for i in range(size):\n",
        "            perturb[i] = delta # only current i-th perturb is non-zero\n",
        "            layer.parameter = base_param + np.reshape(perturb, shape) # make a small change (delta) on the i-th parameter\n",
        "            perturb_output = forward_layers(layers, input) # new output after adding a small change (delta) on the i-th parameter\n",
        "            grad[i] = (perturb_output - base_output) / delta # update the grad of i-th parameter\n",
        "            perturb[i] = 0.0 # set it back to zero\n",
        "\n",
        "\n",
        "        layer.parameter = base_param\n",
        "        layer.grad = np.reshape(np.copy(grad), shape)\n",
        "\n",
        "def forward_layers(layers, input):\n",
        "    '''Forward pass on all the layers. Must be called before backwards pass.'''\n",
        "    output = input\n",
        "    for layer in layers:\n",
        "        output = layer.forward(output)\n",
        "    #assert output.size == 1, \"only supports computations that output a scalar!\"\n",
        "    return output\n",
        "\n",
        "\n",
        "def backward_layers(layers):\n",
        "    '''runs a backward pass on all the layers.\n",
        "    after this function is finished, look at layer.grad to find the\n",
        "    gradient with respect to that layer's parameter.'''\n",
        "    downstream_grad = np.array([1])\n",
        "    for layer in reversed(layers):\n",
        "        downstream_grad = layer.backward(downstream_grad)\n",
        "\n",
        "\n",
        "def zero_grad(layers):\n",
        "    for layer in layers:\n",
        "        layer.zero_grad()\n",
        "\n",
        "\n",
        "def test_autograd():\n",
        "    h = 2\n",
        "    b = 3\n",
        "    input = np.random.normal(np.zeros((b, h)))  #(3,2)\n",
        "    labels = np.array([0,0,1]).reshape(3,1)\n",
        "    layers = [\n",
        "        Linear(np.random.normal(size=(h, 2 * h))), #(2,4)\n",
        "        Sigmoid(),\n",
        "        Bias(np.array([np.random.normal()])),\n",
        "        Linear(np.random.normal(size=(2 * h, 3 * h))), #(4,6)\n",
        "        ReLU(),\n",
        "        Linear(np.random.normal(size=(3 * h, 1))), #(6,1)\n",
        "        MeanSquaredError(labels)\n",
        "    ]\n",
        "    output = forward_layers(layers, input)\n",
        "    backward_layers(layers)\n",
        "    analytics = [np.copy(layer.grad)\n",
        "                 for layer in layers if layer.grad is not None]\n",
        "    zero_grad(layers)\n",
        "\n",
        "    numerical_derivative(layers, input)\n",
        "    numerics = [np.copy(layer.grad)\n",
        "                for layer in layers if layer.grad is not None]\n",
        "    diff = np.sum([np.linalg.norm(analytic - numeric)/np.linalg.norm(numeric)\n",
        "                   for analytic, numeric in zip(analytics, numerics)])\n",
        "\n",
        "    assert diff < 1e-5, \"autograd differs by {} from numeric grad!\".format(diff)\n",
        "\n",
        "\n",
        "if __name__ == \"__main__\":\n",
        "    test_autograd()\n",
        "    print(\"looking good!\")\n"
      ],
      "metadata": {
        "id": "Y52ZqzlQsbqM",
        "colab": {
          "base_uri": "https://localhost:8080/"
        },
        "outputId": "b4ec26f5-84d3-4cc5-c179-837ba8065d2f"
      },
      "execution_count": null,
      "outputs": [
        {
          "output_type": "stream",
          "name": "stdout",
          "text": [
            "looking good!\n"
          ]
        }
      ]
    },
    {
      "cell_type": "markdown",
      "source": [
        "---\n",
        "# **Question 3:** Implementing a Simple MLP\n",
        "\n",
        "####**Important:** Successful completion of Question 2 is *required* to complete this question.\n",
        "\n",
        "In this problem, we will develop a Multi-Layer Perceptron (MLP) using the layers from Question 2. A MLP consists of fully-connected (linear) layers and performs well at identifying complex relationships/patterns in various types of data.  \n",
        "\n",
        "Here, we initialize some toy data that we will use to develop your implementation."
      ],
      "metadata": {
        "id": "CFaGocOGtAXt"
      }
    },
    {
      "cell_type": "code",
      "source": [
        "# Setup\n",
        "import numpy as np\n",
        "import matplotlib.pyplot as plt\n",
        "\n",
        "# Create some toy data\n",
        "X = np.linspace(-1, 1, 100).reshape(-1,1)\n",
        "y = 5*X + 2 + 0.5*np.random.normal() # noisy y\n",
        "\n",
        "print ('X = ', X.shape)\n",
        "print('y = ', y.shape)"
      ],
      "metadata": {
        "id": "NhQSZWS_vIKx",
        "colab": {
          "base_uri": "https://localhost:8080/"
        },
        "outputId": "73ef27e3-e831-4abe-bb92-f7503f72fcce"
      },
      "execution_count": null,
      "outputs": [
        {
          "output_type": "stream",
          "name": "stdout",
          "text": [
            "X =  (100, 1)\n",
            "y =  (100, 1)\n"
          ]
        }
      ]
    },
    {
      "cell_type": "markdown",
      "source": [
        "We will use the following `TwoLayerMLP` class to implement our network. The network parameters are stored in the instance variable `self.params` where keys are string parameter names and values are numpy arrays.\n",
        "\n",
        "Also in this class is the member function `TwoLayerMLP.loss()`, which has not yet been implemented. Note that **Q3.1** and **Q3.2** will have you work with this funciton specifically."
      ],
      "metadata": {
        "id": "YX-hLE1Mvdrp"
      }
    },
    {
      "cell_type": "code",
      "source": [
        "class TwoLayerMLP(object):\n",
        "    def __init__(self, input_size, hidden_size, label_size, std=1e-1, activation='sigmoid'):\n",
        "        np.random.seed(0)\n",
        "        self.input_size = input_size\n",
        "        self.label_size = label_size\n",
        "\n",
        "        self.params = {}\n",
        "\n",
        "        ## TODO: Initialize your parameters below using input_size, hidden_size, label_size\n",
        "        ## the weights of the linear layers are normally distributed with standard deviation = std\n",
        "        ## and mean = 0. The bias is zero. The structure of the network is as follows:\n",
        "        ## linear1 -> bias1 -> sigmoid -> linear 2 -> bias 2\n",
        "\n",
        "\n",
        "        self.params['W1'] = np.random.normal(0, std, (input_size,hidden_size)) ## -- ! code required\n",
        "        self.params['W2'] = np.random.normal(0, std, (hidden_size,label_size)) ## -- ! code required\n",
        "        self.params['b1'] = np.array(0.0) ## -- ! code required\n",
        "        self.params['b2'] = np.array(0.0) ## -- ! code required\n",
        "        ###########################################################################\n",
        "        #                            END OF YOUR CODE\n",
        "        ###########################################################################\n",
        "        self.activation = 'sigmoid'\n",
        "        # Define the model\n",
        "        self.models = [\n",
        "                  Linear(self.params['W1']),\n",
        "                  Bias(self.params['b1']),\n",
        "                  Sigmoid(),\n",
        "                  Linear(self.params['W2']),\n",
        "                  Bias(self.params['b2'])\n",
        "                ]\n",
        "\n",
        "    def loss(self, X, y=None, reg=0.0):\n",
        "        # Unpack variables from the params dictionary\n",
        "        W1, b1 = self.params['W1'], self.params['b1']\n",
        "        W2, b2 = self.params['W2'], self.params['b2']\n",
        "        _, C = W2.shape\n",
        "        N, D = X.shape\n",
        "\n",
        "\n",
        "        #REMOVE LAYER FROM THING\n",
        "\n",
        "        ## TODO: Finish the forward pass, and compute the loss using the layers and the loss\n",
        "        ## layer in problem 2\n",
        "        ## -- ! code required\n",
        "        output_simple = forward_layers(self.models, X)\n",
        "        #print(\"output_simple\")\n",
        "        #print(output_simple)\n",
        "        MSE_simple = 1/(2*X.shape[0]) * np.sum((y - output_simple)**2)\n",
        "        #print(\"MSE_simple\")\n",
        "        #print(MSE_simple)\n",
        "        loss = MSE_simple\n",
        "        #print(\"loss\")\n",
        "        #print(loss)\n",
        "\n",
        "        # self.param_norm = np.zeros((4,1))\n",
        "        # i = 0\n",
        "        # for param in self.params:\n",
        "        #     self.param_norm[i] = np.linalg.norm(self.params[param])\n",
        "        #     i = i + 1\n",
        "        # self.param_norm = np.linalg.norm(self.params['W1'])\n",
        "        # loss = MSE_simple + reg * self.param_norm*\n",
        "        #print(\"reg loss\")\n",
        "        #print(loss)\n",
        "\n",
        "        #print(\"self.models\")\n",
        "        #print(self.models)\n",
        "        # np.append(self.models, MeanSquaredError(y))\n",
        "        #self.models = np.append(self.models, MeanSquaredError(y))\n",
        "        #print(self.models)\n",
        "        #loss = forward_layers(self.models, X)\n",
        "        #print(\"loss\")\n",
        "        #print(loss)\n",
        "\n",
        "        grads = {}\n",
        "        ###########################################################################\n",
        "        # TODO: Compute the backward pass, computing the derivatives of the weights\n",
        "        # and biases. Store the results in the grads dictionary. For example,\n",
        "        # grads['W1'] should store the gradient on W1, and be a matrix of same size\n",
        "        ###########################################################################\n",
        "        ## -- ! code required\n",
        "\n",
        "        gradient = -1/N * (y - output_simple)\n",
        "        #print(\"gradient\")\n",
        "        #print(gradient)\n",
        "        #print(gradient.shape)\n",
        "        #print((N,D))\n",
        "        self.backward_layers(gradient)\n",
        "        #self.backward_layers(np.ones((N, D)))\n",
        "        #calc start here tomorrow\n",
        "\n",
        "        #self.backward_layers(np.array([loss]))\n",
        "        # print(\"self.models:\", self.models[0].grad)\n",
        "        grads['W1'] = self.models[0].grad\n",
        "        grads['b1'] = self.models[1].grad\n",
        "        grads['W2'] = self.models[3].grad\n",
        "        grads['b2'] = self.models[4].grad\n",
        "        #print(\"grads\")\n",
        "        #print(grads)\n",
        "\n",
        "\n",
        "        ###########################################################################\n",
        "        #                            END OF YOUR CODE\n",
        "        ###########################################################################\n",
        "        return loss, grads\n",
        "\n",
        "    def backward_layers(self, downstream_grad):\n",
        "        '''runs a backward pass on all the layers.\n",
        "        after this function is finished, look at layer.grad to find the\n",
        "        gradient with respect to that layer's parameter.'''\n",
        "        for layer in reversed(self.models):\n",
        "            downstream_grad = layer.backward(downstream_grad)\n",
        "\n",
        "    def train(self, X, y, X_val, y_val,\n",
        "            learning_rate=1e-3, learning_rate_decay=0.95,\n",
        "            reg=1e-5, num_epochs=10,\n",
        "            batch_size=1, verbose=False):\n",
        "\n",
        "        num_train = X.shape[0]\n",
        "        iterations_per_epoch = 1\n",
        "        epoch_num = 0\n",
        "\n",
        "        # Use SGD to optimize the parameters in self.model\n",
        "        loss_history = []\n",
        "        grad_magnitude_history = []\n",
        "        train_acc_history = []\n",
        "        val_acc_history = []\n",
        "\n",
        "        np.random.seed(1)\n",
        "        for epoch in range(num_epochs):\n",
        "            # fixed permutation (within this epoch) of training data\n",
        "            perm = np.random.permutation(num_train)\n",
        "\n",
        "            # go through minibatches\n",
        "            for it in range(iterations_per_epoch):\n",
        "                X_batch = None\n",
        "                y_batch = None\n",
        "\n",
        "                # Create a random minibatch\n",
        "                idx = perm[it*batch_size:(it+1)*batch_size]\n",
        "                X_batch = X[idx, :]\n",
        "                y_batch = y[idx]\n",
        "                # Compute loss and gradients using the current minibatch\n",
        "                loss, grads = self.loss(X_batch, y=y_batch, reg=reg)\n",
        "                #print(\"loss\", loss)\n",
        "                loss_history.append(loss)\n",
        "\n",
        "                # do gradient descent\n",
        "                # print(grads)\n",
        "                for param in self.params:\n",
        "                    self.params[param] -= grads[param] * learning_rate\n",
        "\n",
        "                # record gradient magnitude (Frobenius) for W1\n",
        "                grad_magnitude_history.append(np.linalg.norm(grads['W1']))\n",
        "\n",
        "            # Decay learning rate\n",
        "            learning_rate *= learning_rate_decay\n",
        "\n",
        "        return {\n",
        "          'loss_history': loss_history,\n",
        "          'grad_magnitude_history': grad_magnitude_history,\n",
        "        }\n"
      ],
      "metadata": {
        "id": "Zh4NA2blvkDK"
      },
      "execution_count": null,
      "outputs": []
    },
    {
      "cell_type": "markdown",
      "source": [
        "## **Q3.1** Forward Pass\n",
        "\n",
        "Here, you will implement the first part of the `TwoLayerMLP.loss()` method defined in the above code block. This function takes in the data and weight parameters, then computes the class scores (output of the forward layer), loss ($L$), and gradients on the parameters.\n",
        "\n",
        "Use the layers you implemented in Question 2 and implement the first part of the function to compute `scores` and `loss`. Afterwards, run the two test cases below.\n",
        "\n",
        "**Hint**: It should be VERY simple to compute the forward propagation by calling the `forward_layers()` method.\n",
        "\n"
      ],
      "metadata": {
        "id": "rUN-06oQv5M1"
      }
    },
    {
      "cell_type": "code",
      "source": [
        "input_size = 1\n",
        "hidden_size = 10\n",
        "label_size = 1\n",
        "\n",
        "net = TwoLayerMLP(input_size, hidden_size, label_size)\n",
        "\n",
        "''' Checking scores '''\n",
        "scores = forward_layers(net.models, X)\n",
        "print(f'1. Your scores: {np.linalg.norm(scores)}')\n",
        "\n",
        "correct_norm = 2.00385\n",
        "# The difference should be very small (< 1e-4)\n",
        "score_diff = np.sum(np.abs(np.linalg.norm(scores) -correct_norm))\n",
        "print (f'   Difference between your scores and correct scores: {score_diff}\\n')\n",
        "\n",
        "\n",
        "''' Checking loss '''\n",
        "loss, _ = net.loss(X, y, reg=0.1)\n",
        "print (f'2. Your loss: {loss}')\n",
        "\n",
        "correct_loss = 5\n",
        "# Since we generate random data, your loss would not be the same as the correct loss.\n",
        "# However, the difference should be fairly small (less than 1 or 2)\n",
        "loss_diff = np.sum(np.abs(loss - correct_loss))\n",
        "print (f'   Difference between your loss and correct loss: {loss_diff}')"
      ],
      "metadata": {
        "id": "AAdx7xe6wzBX",
        "colab": {
          "base_uri": "https://localhost:8080/"
        },
        "outputId": "918e5f13-8d12-403a-f633-f6c029bc6629"
      },
      "execution_count": null,
      "outputs": [
        {
          "output_type": "stream",
          "name": "stdout",
          "text": [
            "1. Your scores: 2.0038506582894944\n",
            "   Difference between your scores and correct scores: 6.582894944706652e-07\n",
            "\n",
            "2. Your loss: 4.846033779309941\n",
            "   Difference between your loss and correct loss: 0.15396622069005872\n"
          ]
        }
      ]
    },
    {
      "cell_type": "markdown",
      "source": [
        "## **Q3.2** Backward Pass\n",
        "Implement the second part of `TwoLayerMLP.loss()` to compute the gradient of the loss with respect to the variables `W1`, `b1`, `W2`, and `b2`, stored in `grads`.\n",
        "\n",
        "**Hint:** you can quickly get the gradients with respect to parameters by calling `self.backward_layers(downstream_grad)`.\n",
        "\n",
        "Now debug your backward pass using a numeric gradient check."
      ],
      "metadata": {
        "id": "UnQ9Gh-5yMB9"
      }
    },
    {
      "cell_type": "code",
      "source": [
        "# Use numeric gradient checking to check your implementation of the backward pass.\n",
        "# If your implementation is correct, the difference between the numeric and\n",
        "# analytic gradients should be less than 1e-8 for each of W1, W2, b1, and b2.\n",
        "def rel_error(x, y):\n",
        "    \"\"\" returns relative error \"\"\"\n",
        "    return np.max(np.abs(x - y) / (np.maximum(1e-8, np.abs(x) + np.abs(y))))\n",
        "\n",
        "\n",
        "def eval_numerical_gradient(f, x, verbose=True, h=0.00001):\n",
        "  \"\"\"\n",
        "  a naive implementation of numerical gradient of f at x\n",
        "  - f should be a function that takes a single argument\n",
        "  - x is the point (numpy array) to evaluate the gradient at\n",
        "  \"\"\"\n",
        "\n",
        "  fx = f(x) # evaluate function value at original point\n",
        "  grad = np.zeros_like(x)\n",
        "  # iterate over all indexes in x\n",
        "  it = np.nditer(x, flags=['multi_index'], op_flags=['readwrite'])\n",
        "  while not it.finished:\n",
        "\n",
        "    # evaluate function at x+h\n",
        "    ix = it.multi_index\n",
        "    oldval = x[ix]\n",
        "    x[ix] = oldval + h # increment by h\n",
        "    fxph = f(x) # evalute f(x + h)\n",
        "    x[ix] = oldval - h\n",
        "    fxmh = f(x) # evaluate f(x - h)\n",
        "    x[ix] = oldval # restore\n",
        "\n",
        "    # compute the partial derivative with centered formula\n",
        "    grad[ix] = (fxph - fxmh) / (2 * h) # the slope\n",
        "    if verbose:\n",
        "      print (ix, grad[ix])\n",
        "    it.iternext() # step to next dimension\n",
        "\n",
        "  return grad\n",
        "\n",
        "loss, grads = net.loss(X, y, reg=0.1)\n",
        "\n",
        "# these should all be very small\n",
        "for param_name in grads:\n",
        "    f = lambda W: net.loss(X, y, reg=0.1)[0]\n",
        "    param_grad_num = eval_numerical_gradient(f, net.params[param_name], verbose=False)\n",
        "    print (f'{param_name} max relative error: {rel_error(param_grad_num, grads[param_name])}')\n"
      ],
      "metadata": {
        "id": "wSbk5P-_yUzz",
        "colab": {
          "base_uri": "https://localhost:8080/"
        },
        "outputId": "bac1afbc-e990-4a36-e4e2-5f2fa12f99cc"
      },
      "execution_count": null,
      "outputs": [
        {
          "output_type": "stream",
          "name": "stdout",
          "text": [
            "W1 max relative error: 2.7070354784073133e-09\n",
            "b1 max relative error: 3.5206534785771504e-10\n",
            "W2 max relative error: 3.71648921164475e-11\n",
            "b2 max relative error: 1.9422127110364637e-11\n"
          ]
        }
      ]
    },
    {
      "cell_type": "markdown",
      "source": [
        "## **Q3.3** Train the Sigmoid Network\n",
        "\n",
        "To train the network we will use stochastic gradient descent (SGD), implemented in `TwoLayerNet.train()`. Train the two-layer network and plot the `['loss_history']`. We don't expect you to optimize the training process. As long as the the loss graph looks reasonable (loss is going down), you will get full credit. All the current hyperparameters (incl. `num_epochs`!!) are set to 1, so feel free to play around with these values.\n",
        "\n",
        "**Note:** Recall that we have **not** implemented functionality to zero the gradients. Thus, running this cell twice in a row will lead to a very different curve being plotted. Prior to submission, please go to Runtime->Run all"
      ],
      "metadata": {
        "id": "xWczmfdt6PXF"
      }
    },
    {
      "cell_type": "code",
      "source": [
        "stats = net.train(X, y, X, y,learning_rate=.1, batch_size = 10, num_epochs=1000, learning_rate_decay = .99, verbose=False)\n",
        "## TODO: Plot ['loss_history'] here\n",
        "## -- ! code required\n",
        "#print(\"stats\")\n",
        "#print(stats['loss_history'])\n",
        "plt.plot(stats['loss_history'])\n",
        "\n"
      ],
      "metadata": {
        "id": "8RQ9QxTR6hgD",
        "colab": {
          "base_uri": "https://localhost:8080/",
          "height": 448
        },
        "outputId": "437d5833-2134-430f-958d-0a02585f08c8"
      },
      "execution_count": null,
      "outputs": [
        {
          "output_type": "execute_result",
          "data": {
            "text/plain": [
              "[<matplotlib.lines.Line2D at 0x7caf772d8370>]"
            ]
          },
          "metadata": {},
          "execution_count": 227
        },
        {
          "output_type": "display_data",
          "data": {
            "text/plain": [
              "<Figure size 640x480 with 1 Axes>"
            ],
            "image/png": "[encoded data removed]"
          },
          "metadata": {}
        }
      ]
    },
    {
      "cell_type": "markdown",
      "source": [
        "---\n",
        "# **Question 4:** Intro to PyTorch\n"
      ],
      "metadata": {
        "id": "SVEkUlgP7ogh"
      }
    },
    {
      "cell_type": "markdown",
      "source": [
        "## **Q4.0**: Pytorch Tutorial\n",
        "\n",
        "This question will introduce you to [PyTorch](https://pytorch.org), currently the fastest growing deep learning library, and the one we will use in the this course.\n",
        "\n",
        "Before starting the homework, we recommend you review this introductory tutorial on the PyTorch webpage: [Deep Learning with PyTorch: A 60 Minute Blitz](https://pytorch.org/tutorials/beginner/deep_learning_60min_blitz.html). If you get stuck on any implementation problems, please first refer to this guide or to the PyTorch documentation; the functions we use here are well documented across the internet. Otherwise, you are encouraged to post on Piazza if you have any further questions."
      ],
      "metadata": {
        "id": "kFqntwqw7z14"
      }
    },
    {
      "cell_type": "code",
      "source": [
        "import torch"
      ],
      "metadata": {
        "id": "tNMxlfUT9H6O"
      },
      "execution_count": null,
      "outputs": []
    },
    {
      "cell_type": "markdown",
      "source": [
        "## **Q4.1** A Simple Function\n",
        "\n",
        "A [Tensor](https://pytorch.org/docs/stable/tensors.html) (`torch.tensor`) is the fundamental data structure of the PyTorch library. Tensors are multi-dimensional matrices similar to a NumPy array, except that they are designed to be run on GPUs. In PyTorch, tensors are used to encode model data and parameters.\n",
        "\n",
        "`torch.autograd` is PyTorch's automatic differentiation engine, and is an essential tool for performing backpropagation.\n",
        "\n",
        "Here, we will use this functionality to perform backpropagation on the simple function, $f = \\sqrt z \\cdot(x+y)$ with `torch.tensor` and `tensor.autograd`.\n"
      ],
      "metadata": {
        "id": "3T1KhsYq9K1M"
      }
    },
    {
      "cell_type": "markdown",
      "source": [
        "#### **Q4.1.1** Creating Tensors\n",
        "\n",
        "Tensors can be initialized using the `torch.tensor()` method. We often set `requires_grad=True` when we create a tensor if we want to compute gradient with respect to it. (There are also situations that we perfer to set `requires_grad=False` to save computation time and memory).\n",
        "\n",
        "Initialize three tensors `x`, `y`, and `z` that will be used as inputs to the function $f$. Set $x=-2$, $y=5$ and $z=4$ and set `requires_grad=True`.\n",
        "\n",
        "\n"
      ],
      "metadata": {
        "id": "Lkts-gIk_V1K"
      }
    },
    {
      "cell_type": "code",
      "source": [
        "## -- ! code required\n",
        "x = torch.tensor(np.array([-2.0]), requires_grad=True)\n",
        "y = torch.tensor(np.array([5.0]), requires_grad=True)\n",
        "z = torch.tensor(np.array([4.0]), requires_grad=True)\n",
        "\n",
        "print(x)\n",
        "print(y)\n",
        "print(z)"
      ],
      "metadata": {
        "id": "QQjzjT3tAR47",
        "colab": {
          "base_uri": "https://localhost:8080/"
        },
        "outputId": "eeb1d0e7-4bff-4143-910e-e22a431e31ac"
      },
      "execution_count": null,
      "outputs": [
        {
          "output_type": "stream",
          "name": "stdout",
          "text": [
            "tensor([-2.], dtype=torch.float64, requires_grad=True)\n",
            "tensor([5.], dtype=torch.float64, requires_grad=True)\n",
            "tensor([4.], dtype=torch.float64, requires_grad=True)\n"
          ]
        }
      ]
    },
    {
      "cell_type": "markdown",
      "source": [
        "#### **Q4.1.2** Computation Graph\n",
        "We present here a computation graph for our function $f = \\sqrt z \\cdot(x+y)$. The round nodes are input variables, the square nodes represent arithmetic operators, and the diamond node represents the output of the function. The two labeled arrows $g$ and $q$ are intermediate nodes (functions) of our graph.\n",
        "\n",
        "Conceptually, `torch.autograd` maintains a similar datastructure as it performs forward and backward passes.\n"
      ],
      "metadata": {
        "id": "wM4ysO1wATUR"
      }
    },
    {
      "cell_type": "markdown",
      "source": [
        "![comp_graph.png](data:image/png;base64,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)"
      ],
      "metadata": {
        "id": "kLCZFNyoAfb9"
      }
    },
    {
      "cell_type": "markdown",
      "source": [
        "Following this computational graph, you are required to:\n",
        "\n",
        "1.   Define three new variables: $$g=x+y \\\\ q=\\sqrt z \\\\f= g \\cdot q$$ Defining these intermediate functions here allows you to \"communicate\" with `torch.autograd`.\n",
        "\n",
        "2.   Print `g`,`q`, and `f`. The second argument of these tensors could be different...think about whether it makes sense based on what the variable is and how you created it!\n",
        "\n",
        "3.   Run `f.backward(retain_graph=True)` to compute the gradients of function $f$ w.r.t. $x,y,z$, respectively. The `retain_graph` attribute tells autograd to keep the computation graph around after backward pass as opposed deleting it in order to free up some memory.\n",
        "\n",
        "4.   Print the gradients of $f$ w.r.t. $x,y,z,q$. Note that the gradient for $q$ will be `None`. This is because $q$ was created as an intermediate node. (Note: to access gradients for intermediate nodes in PyTorch you can use hooks as mentioned in [this answer](https://discuss.pytorch.org/t/why-cant-i-see-grad-of-an-intermediate-variable/94/2).)"
      ],
      "metadata": {
        "id": "7HPx2uiuA3HT"
      }
    },
    {
      "cell_type": "code",
      "source": [
        "## -- ! code required\n",
        "g = x + y\n",
        "q = torch.sqrt(z)\n",
        "f = g * q\n",
        "#print(\"g\")\n",
        "#print(g)\n",
        "#print(\"q\")\n",
        "#print(q)\n",
        "#print(\"f\")\n",
        "#print(f)\n",
        "g.register_hook(print)\n",
        "q.register_hook(print)\n",
        "f.backward(retain_graph=True)\n",
        "print(\"grads print\")\n",
        "print(x.grad)\n",
        "print(y.grad)\n",
        "print(z.grad)\n",
        "print(g.grad)\n",
        "print(q.grad)\n",
        "print(f.grad)"
      ],
      "metadata": {
        "id": "0mxMYRclBPs-",
        "colab": {
          "base_uri": "https://localhost:8080/"
        },
        "outputId": "01777dc0-ad3d-43d9-bb02-cf46ed66141c"
      },
      "execution_count": null,
      "outputs": [
        {
          "output_type": "stream",
          "name": "stdout",
          "text": [
            "tensor([3.], dtype=torch.float64)\n",
            "tensor([2.], dtype=torch.float64)\n",
            "grads print\n",
            "tensor([2.], dtype=torch.float64)\n",
            "tensor([2.], dtype=torch.float64)\n",
            "tensor([0.7500], dtype=torch.float64)\n",
            "None\n",
            "None\n",
            "None\n"
          ]
        },
        {
          "output_type": "stream",
          "name": "stderr",
          "text": [
            "<ipython-input-230-0d105b34fe53>:18: UserWarning: The .grad attribute of a Tensor that is not a leaf Tensor is being accessed. Its .grad attribute won't be populated during autograd.backward(). If you indeed want the .grad field to be populated for a non-leaf Tensor, use .retain_grad() on the non-leaf Tensor. If you access the non-leaf Tensor by mistake, make sure you access the leaf Tensor instead. See github.com/pytorch/pytorch/pull/30531 for more informations. (Triggered internally at aten/src/ATen/core/TensorBody.h:489.)\n",
            "  print(g.grad)\n",
            "<ipython-input-230-0d105b34fe53>:19: UserWarning: The .grad attribute of a Tensor that is not a leaf Tensor is being accessed. Its .grad attribute won't be populated during autograd.backward(). If you indeed want the .grad field to be populated for a non-leaf Tensor, use .retain_grad() on the non-leaf Tensor. If you access the non-leaf Tensor by mistake, make sure you access the leaf Tensor instead. See github.com/pytorch/pytorch/pull/30531 for more informations. (Triggered internally at aten/src/ATen/core/TensorBody.h:489.)\n",
            "  print(q.grad)\n",
            "<ipython-input-230-0d105b34fe53>:20: UserWarning: The .grad attribute of a Tensor that is not a leaf Tensor is being accessed. Its .grad attribute won't be populated during autograd.backward(). If you indeed want the .grad field to be populated for a non-leaf Tensor, use .retain_grad() on the non-leaf Tensor. If you access the non-leaf Tensor by mistake, make sure you access the leaf Tensor instead. See github.com/pytorch/pytorch/pull/30531 for more informations. (Triggered internally at aten/src/ATen/core/TensorBody.h:489.)\n",
            "  print(f.grad)\n"
          ]
        }
      ]
    },
    {
      "cell_type": "markdown",
      "source": [
        "#### **Q4.1.3** `grad.zero_()` for Tensors\n",
        "\n",
        "Notice that if we run the above cell again, it will add the new gradients to their previous values. Sometimes this is handy, but for now it's best to avoid this. The `grad.zero_()` method can be used to zero out the stored gradient for a tensor. Use this function on the tensors `x`, `y`, and `z` to ensure the gradients do not change even after running the same cell multiple times.\n",
        "\n",
        "After using the `grad.zero_()` method, print the gradients of `x`, `y`, and `z`. Then, run `f.backward(retain_graph=True)` and print the new gradients for `x`, `y`, and `z`. Run this code cell a few times to ensure the gradients do not change!"
      ],
      "metadata": {
        "id": "rFkKoKoNBRt0"
      }
    },
    {
      "cell_type": "code",
      "source": [
        "## -- ! code required\n",
        "x.grad.zero_()\n",
        "y.grad.zero_()\n",
        "z.grad.zero_()\n",
        "print(x.grad)\n",
        "print(y.grad)\n",
        "print(z.grad)\n",
        "f.backward(retain_graph=True)\n",
        "print(x.grad)\n",
        "print(y.grad)\n",
        "print(z.grad)"
      ],
      "metadata": {
        "id": "s97jRnxYBdyc",
        "colab": {
          "base_uri": "https://localhost:8080/"
        },
        "outputId": "685fe37f-4bf8-477c-9848-b05cefec74f8"
      },
      "execution_count": null,
      "outputs": [
        {
          "output_type": "stream",
          "name": "stdout",
          "text": [
            "tensor([0.], dtype=torch.float64)\n",
            "tensor([0.], dtype=torch.float64)\n",
            "tensor([0.], dtype=torch.float64)\n",
            "tensor([3.], dtype=torch.float64)\n",
            "tensor([2.], dtype=torch.float64)\n",
            "tensor([2.], dtype=torch.float64)\n",
            "tensor([2.], dtype=torch.float64)\n",
            "tensor([0.7500], dtype=torch.float64)\n"
          ]
        }
      ]
    },
    {
      "cell_type": "markdown",
      "source": [
        "## **Q4.2** A Single Neuron\n",
        "\n",
        "Now, we explore a function with a vector/matrix input and computing its gradient (think of this as a single neuron in a larger NN). We will implement the function $g(\\mathbf{x}, \\mathbf{w}) = f(\\mathbf{w}^T \\mathbf{x})$, where $f(z) = \\sigma(z) = \\frac{1}{1+e^{-x}}$. This is known as the **sigmoid** activation function, and is implemented in PyTorch as `torch.nn.functional.sigmoid` ([documentation](https://pytorch.org/docs/stable/generated/torch.nn.functional.sigmoid.html))"
      ],
      "metadata": {
        "id": "b6Hr6t7GB-YR"
      }
    },
    {
      "cell_type": "markdown",
      "source": [
        "#### **Q4.2.1** Autograd\n",
        "\n",
        "Initialize the input $\\mathbf{x} =[-1, -2, 1]$ and the weights $ \\mathbf{w}=[2, -3, -3]$, where $w_3$ is the bias. Print out the result of function $g$ with these intializations.\n",
        "\n",
        "Next, run `g.backward()` and print the gradients of $g$ w.r.t. $\\mathbf{w}, \\mathbf{x}$."
      ],
      "metadata": {
        "id": "oYcVDBlUEnX4"
      }
    },
    {
      "cell_type": "code",
      "source": [
        "# Initialize x, w, and function g\n",
        "## -- ! code required\n",
        "x = torch.tensor([-1.0,-2.0,1.0],requires_grad=True)\n",
        "w = torch.tensor([2.0,-3.0,-3.0],requires_grad=True)\n",
        "g = torch.nn.functional.sigmoid(torch.matmul(w,x))\n",
        "\n",
        "print(f'x = {x} \\nw = {w} \\ng(x, w)={g}\\n')\n",
        "\n",
        "\n",
        "# compute and print gradients\n",
        "## -- ! code required\n",
        "g.backward()\n",
        "print(\"x.grad\")\n",
        "print(x.grad)\n",
        "print(\"w.grad\")\n",
        "print(w.grad)\n"
      ],
      "metadata": {
        "id": "Gwqwi72ZE71x",
        "colab": {
          "base_uri": "https://localhost:8080/"
        },
        "outputId": "30ba3ae0-a03f-473d-85d0-873541f56d86"
      },
      "execution_count": null,
      "outputs": [
        {
          "output_type": "stream",
          "name": "stdout",
          "text": [
            "x = tensor([-1., -2.,  1.], requires_grad=True) \n",
            "w = tensor([ 2., -3., -3.], requires_grad=True) \n",
            "g(x, w)=0.7310585975646973\n",
            "\n",
            "x.grad\n",
            "tensor([ 0.3932, -0.5898, -0.5898])\n",
            "w.grad\n",
            "tensor([-0.1966, -0.3932,  0.1966])\n"
          ]
        }
      ]
    },
    {
      "cell_type": "markdown",
      "source": [
        "#### **Q4.2.2** Verify Gradients\n",
        "\n",
        "Derive $ \\frac{\\partial g}{ \\partial \\mathbf{x}} $ and  $ \\frac{\\partial g}{ \\partial \\mathbf{w}} $ by hand and evaluate for $\\mathbf{x} =[-1, -2, 1]$ and the weights $ \\mathbf{w}=[2, -3, -3]$. Use this to verify your results in 2.2.1.\n",
        "\n",
        "**Hint:** Start with computing $\\frac{\\partial f}{ \\partial z}$. You should be able to express this result in terms of $f(z)$. Then, use this result and the properties of the chain rule to compute $ \\frac{\\partial g}{ \\partial \\mathbf{x}} $ and  $ \\frac{\\partial g}{ \\partial \\mathbf{w}} $. You might find the printed line above for the value of $g$ is helpful."
      ],
      "metadata": {
        "id": "ElSyNDx7E_Wz"
      }
    },
    {
      "cell_type": "markdown",
      "source": [
        "#### <font color='blue'>**Q4.2.2 Solution**:</font>\n",
        "\n",
        "$x = [-1, -2, 1]$\n",
        "\n",
        "$w = [2, -3, -3]$\n",
        "\n",
        "$ w^Tx = [2, -3, -3]^T [-1, -2, 1] = -2+6-3 = 1 $\n",
        "\n",
        "$g(\\mathbf{x}, \\mathbf{w}) = f(\\mathbf{w}^T \\mathbf{x})$, where $f(z) = \\sigma(z) = \\frac{1}{1+e^{-x}}$\n",
        "\n",
        "$$\n",
        "g(x, w) = f(w^T x) = σ(w^Tx)\\\\\n",
        "\\frac{\\partial g}{\\partial x} = \\frac{\\partial σ(w^Tx)}{\\partial x} \\\\\n",
        "= σ(w^Tx)*(1-σ(w^Tx)) * \\frac{\\partial (w^Tx)}{\\partial x} \\\\\n",
        "= σ(w^Tx)*(1-σ(w^Tx)) * w^T \\\\\n",
        "= σ(1)*(1-σ(1)) *  [2, -3, -3]^T\\\\\n",
        "= \\frac{1}{1+e^{-1}}*(1-\\frac{1}{1+e^{-1}}) * [2, -3, -3]^T \\\\\n",
        "= \\frac{1}{1+.3679}*(1-\\frac{1}{1+.3679}) * [2, -3, -3]^T \\\\\n",
        "= .7310 * (1 - .731) * [2, -3, -3]^T \\\\\n",
        "= .1966 * [2, -3, -3]^T \\\\\n",
        "= [3932, -.5898, -.5898]\n",
        "$$\n",
        "\n",
        ".\n",
        "\n",
        "$$\n",
        "\\frac{\\partial g}{\\partial w} = \\frac{\\partial σ(w^Tx)}{\\partial w} \\\\\n",
        "= σ(w^Tx)*(1-σ(w^Tx)) * \\frac{\\partial (w^Tx)}{\\partial w} \\\\\n",
        "= σ(w^Tx)*(1-σ(w^Tx)) * x \\\\\n",
        "= σ(1)*(1-σ(1)) *  [-1, -2, 1]\\\\\n",
        "= .1966 *  [-1, -2, 1]\\\\\n",
        "= [-0.1966, -0.3932,  0.1966]\\\\\n",
        "$$"
      ],
      "metadata": {
        "id": "97nJaLgOFWIS"
      }
    },
    {
      "cell_type": "markdown",
      "source": [
        "## **Q4.3** Building Blocks in `torch.nn`\n",
        "\n",
        "In Q4.2, we utilized `torch.nn.Sigmoid` for our activation function, rather than coding the sigmoid activation function from scratch. The motivation of using `torch.nn` is the same. Many useful functions and building blocks used to architect deep learning models are already implemented in `torch.nn`. A full catalog of included functions is available [here](https://pytorch.org/docs/stable/nn.html).\n",
        "\n",
        "Using `torch.nn`, build the following model, which is a binary classifier:\n",
        "\\begin{align*}\n",
        "g(\\mathbf{x}) = f(\\mathbf{w}^T \\mathbf{x} + b )\n",
        "\\end{align*}\n",
        "where $\\mathbf{x}$ is the input data, $ \\mathbf{w}$ is the weights, $b$ is the bias, and $f(z) = \\sigma(z) = \\frac{1}{1+e^{-x}}$ is the sigmoid activation function.\n",
        "A building block to represent $\\mathbf{w}^T \\mathbf{x} + b$ is included in `torch.nn`. This is called a linear layer, and can be initialized using `torch.nn.Linear()`.\n",
        "\n",
        "1.   Build the above model with weights $\\mathbf{w}=[2, -3]$ bias $b=-3$.\n",
        "2.   Initialize an input $\\mathbf{x}=[-1, 2]$ (you don't need to set `requires_grad=True` for $\\mathbf{x}$ because in the context of machine learning, we do not require the gradient with respect to data), and print the value of $g(\\mathbf{x})$\n",
        "3.   Compute the gradients $\\frac{\\partial g}{\\partial \\mathbf{w}}, \\frac{\\partial g}{\\partial b}$ by running `backward()` and print them out (they will be stored in the Linear variable, e.g. in `.weight.grad`.)\n",
        "\n",
        "**Check:** We built an equivlant model in Q4.2, so the outputs should match."
      ],
      "metadata": {
        "id": "7pE4TsEgFsDM"
      }
    },
    {
      "cell_type": "code",
      "source": [
        "import torch\n",
        "import torch.nn as nn\n",
        "\n",
        "# linear layer\n",
        "## -- ! code required\n",
        "lin = torch.nn.Linear(2,1) #input 2, output 1\n",
        "#f = torch.nn.functional.sigmoid()\n",
        "\n",
        "# initialize data and print output\n",
        "## -- ! code required\n",
        "x = torch.tensor([-1.0,-2.0],requires_grad=False)\n",
        "w = torch.tensor([2.0,-3.0],requires_grad=True)\n",
        "b = torch.tensor([-3.0],requires_grad=True)\n",
        "#g.weight.data = w\n",
        "#g.bias = b\n",
        "with torch.no_grad():\n",
        "    lin.weight.copy_(w)\n",
        "    lin.bias.copy_(b)\n",
        "output = torch.nn.functional.sigmoid(lin(x))\n",
        "print(output)\n",
        "print(lin)\n",
        "print(lin.weight)\n",
        "print(lin.bias)\n",
        "\n",
        "\n",
        "# compute and print gradient\n",
        "## -- ! code required\n",
        "output.backward()\n",
        "print(\"backward\")\n",
        "print(lin.weight.grad)\n",
        "print(lin.bias.grad)\n"
      ],
      "metadata": {
        "id": "FW7ILCCXHeFS",
        "colab": {
          "base_uri": "https://localhost:8080/"
        },
        "outputId": "6cfa6f41-035d-4c88-9e9e-067e0bfb5d5c"
      },
      "execution_count": null,
      "outputs": [
        {
          "output_type": "stream",
          "name": "stdout",
          "text": [
            "tensor([0.7311], grad_fn=<SigmoidBackward0>)\n",
            "Linear(in_features=2, out_features=1, bias=True)\n",
            "Parameter containing:\n",
            "tensor([[ 2., -3.]], requires_grad=True)\n",
            "Parameter containing:\n",
            "tensor([-3.], requires_grad=True)\n",
            "backward\n",
            "tensor([[-0.1966, -0.3932]])\n",
            "tensor([0.1966])\n"
          ]
        }
      ]
    },
    {
      "cell_type": "markdown",
      "source": [
        "## **Q4.4** Creating a Module\n",
        " Now lets put these two functions (Linear and Sigmoid) together into a \"module\". Read the [Neural Networks tutorial](https://pytorch.org/tutorials/beginner/blitz/neural_networks_tutorial.html) if you have not already.\n",
        "\n"
      ],
      "metadata": {
        "id": "KAZYokEpHj4F"
      }
    },
    {
      "cell_type": "markdown",
      "source": [
        "#### **Q4.4.1**\n",
        "\n",
        "Make a subclass of the `nn.Module` class, called `Neuron`. Set variables to the same values as Q4.3. You will need to define the `__init__()` and `forward()` methods.\n",
        "\n"
      ],
      "metadata": {
        "id": "aF-3HRipIflj"
      }
    },
    {
      "cell_type": "code",
      "source": [
        "import torch.nn as nn\n",
        "\n",
        "class Neuron(nn.Module):\n",
        "\n",
        "    def __init__(self):\n",
        "        super(Neuron, self).__init__()\n",
        "        # w = torch.tensor([[2.0,-3.0]],requires_grad=True)\n",
        "        # b = torch.tensor([-3.0],requires_grad=True)\n",
        "        ## -- ! code required\n",
        "        # self.lin = nn.Linear(2, 1)\n",
        "        # with torch.no_grad():\n",
        "        #     self.lin.weight.copy_(w)\n",
        "        #     self.lin.bias.copy_(b)\n",
        "\n",
        "\n",
        "        self.lin = nn.Linear(2, 1)\n",
        "        self.lin.weight = nn.Parameter(torch.tensor([[2.0,-3.0]]))\n",
        "        self.lin.bias = nn.Parameter(torch.tensor([-3.0]))\n",
        "\n",
        "    def forward(self, x):\n",
        "        ## -- ! code required\n",
        "        x = nn.functional.sigmoid(self.lin(x))\n",
        "        return x\n"
      ],
      "metadata": {
        "id": "SWYCe8fGIIgb"
      },
      "execution_count": null,
      "outputs": []
    },
    {
      "cell_type": "markdown",
      "source": [
        "#### **Q4.4.2**\n",
        "\n",
        "Now create an of your `Neuron` class called `my_neuron` and run backpropagation on it. Print out the gradients again. Make sure you zero out the gradients first, by calling `.zero_grad()` function of the parent class. Even if you will not re-compute the backprop, it is good practice to do this every time to avoid accumulating gradient!"
      ],
      "metadata": {
        "id": "07Jg6nziIwlR"
      }
    },
    {
      "cell_type": "code",
      "source": [
        "## -- ! code required\n",
        "x = torch.tensor([-1.0,-2.0],requires_grad=False)\n",
        "\n",
        "neuron = Neuron()\n",
        "print(neuron)\n",
        "\n",
        "output = neuron(x)\n",
        "print(output)\n",
        "\n",
        "output.backward()\n",
        "print(\"backward\")\n",
        "print(neuron.lin.weight.grad)\n",
        "print(neuron.lin.bias.grad)\n",
        "\n",
        "neuron.zero_grad()"
      ],
      "metadata": {
        "id": "gNtAZ5JdJDmd",
        "colab": {
          "base_uri": "https://localhost:8080/"
        },
        "outputId": "e9b2c754-3f87-4c06-ee1c-3c0521b0b67b"
      },
      "execution_count": null,
      "outputs": [
        {
          "output_type": "stream",
          "name": "stdout",
          "text": [
            "Neuron(\n",
            "  (lin): Linear(in_features=2, out_features=1, bias=True)\n",
            ")\n",
            "tensor([0.7311], grad_fn=<SigmoidBackward0>)\n",
            "backward\n",
            "tensor([[-0.1966, -0.3932]])\n",
            "tensor([0.1966])\n"
          ]
        }
      ]
    },
    {
      "cell_type": "markdown",
      "source": [
        "## **Q4.5**. Loss and SGD\n",
        "\n",
        " Now, lets train our neuron on some data. The code below creates a toy dataset containing a few inputs $x$ and outputs $y$ (a binary 0/1 label), as well as a function that plots the data and current solution."
      ],
      "metadata": {
        "id": "TRvzPWVtKCGf"
      }
    },
    {
      "cell_type": "code",
      "source": [
        "import matplotlib.pyplot as plt\n",
        "\n",
        "# create some toy 2-D datapoints with binary (0/1) labels\n",
        "x = torch.tensor([[1.2, 1], [0.2, 1.4], [0.5, 0.5],\n",
        "                  [-1.5, -1.3], [0.2, -1.4], [-0.7, -0.5]])\n",
        "y = torch.tensor([0, 0, 0, 1, 1, 1 ])\n",
        "\n",
        "def plot_soln(x, y, params):\n",
        "  plt.plot(x[y==1,0], x[y==1,1], 'r+')\n",
        "  plt.plot(x[y==0,0], x[y==0,1], 'b.')\n",
        "  plt.grid(True)\n",
        "  plt.axis([-2, 2, -2, 2])\n",
        "\n",
        "  # NOTE : This may depend on how you implement Neuron.\n",
        "  #   Change accordingly\n",
        "  w0 = params[0][0][0].item()\n",
        "  w1 = params[0][0][1].item()\n",
        "  bias = params[1][0].item()\n",
        "\n",
        "  print(\"w0 =\", w0, \"w1 =\", w1, \"bias =\", bias)\n",
        "  dbx = torch.tensor([-2, 2])\n",
        "  dby = -(1/w1)*(w0*dbx + bias)  # plot the line corresponding to the weights and bias\n",
        "  plt.plot(dbx, dby)\n",
        "\n",
        "params = list(neuron.parameters())\n",
        "plot_soln(x, y, params)"
      ],
      "metadata": {
        "id": "-TGI87d1KF5r",
        "colab": {
          "base_uri": "https://localhost:8080/",
          "height": 453
        },
        "outputId": "bfee7ddb-b30c-487d-c0ce-c546d7886d1a"
      },
      "execution_count": null,
      "outputs": [
        {
          "output_type": "stream",
          "name": "stdout",
          "text": [
            "w0 = 2.0 w1 = -3.0 bias = -3.0\n"
          ]
        },
        {
          "output_type": "display_data",
          "data": {
            "text/plain": [
              "<Figure size 640x480 with 1 Axes>"
            ],
            "image/png": "[encoded data removed]"
          },
          "metadata": {}
        }
      ]
    },
    {
      "cell_type": "markdown",
      "source": [
        "#### **Q4.5.1**\n",
        "\n",
        "Declare an object `criterion` of type `nn.CrossEntropyLoss`. Note that this can be called as a function on two tensors, one representing the network outputs and the other, the targets that the network is being trained to predict, to return the loss. Print the value of the loss on the dataset using the initial weights and bias defined above in Q4.2."
      ],
      "metadata": {
        "id": "oTRxOexxKLnA"
      }
    },
    {
      "cell_type": "code",
      "source": [
        "## -- ! code required\n",
        "neuron = Neuron()\n",
        "output = neuron.forward(x)\n",
        "print(output)\n",
        "print(y)\n",
        "criterion = nn.CrossEntropyLoss()\n",
        "loss = criterion(torch.cat((output, 1-output),1), y)\n",
        "print(loss)"
      ],
      "metadata": {
        "id": "QsE6IMMoKShi",
        "colab": {
          "base_uri": "https://localhost:8080/"
        },
        "outputId": "4030ea3b-758d-46c7-b3b2-007ac0360eab"
      },
      "execution_count": null,
      "outputs": [
        {
          "output_type": "stream",
          "name": "stdout",
          "text": [
            "tensor([[0.0266],\n",
            "        [0.0011],\n",
            "        [0.0293],\n",
            "        [0.1091],\n",
            "        [0.8320],\n",
            "        [0.0522]], grad_fn=<SigmoidBackward0>)\n",
            "tensor([0, 0, 0, 1, 1, 1])\n",
            "tensor(0.9426, grad_fn=<NllLossBackward0>)\n"
          ]
        }
      ]
    },
    {
      "cell_type": "markdown",
      "source": [
        "#### **Q4.5.2**\n",
        "\n",
        "Print out the chain of `grad_fn` functions backwards starting from `loss.grad_fn`  to demonstrate what backpropagation will be run on."
      ],
      "metadata": {
        "id": "wouQnelEKUs5"
      }
    },
    {
      "cell_type": "code",
      "source": [
        "## -- ! code required\n",
        "print(loss.grad_fn)\n",
        "print(output.grad_fn)\n"
      ],
      "metadata": {
        "id": "tM7gGKy0KVwy",
        "colab": {
          "base_uri": "https://localhost:8080/"
        },
        "outputId": "656fdbf1-c94b-43f8-bfef-eb7f127cf75d"
      },
      "execution_count": null,
      "outputs": [
        {
          "output_type": "stream",
          "name": "stdout",
          "text": [
            "<NllLossBackward0 object at 0x7caf848452d0>\n",
            "<SigmoidBackward0 object at 0x7caf77229090>\n"
          ]
        }
      ]
    },
    {
      "cell_type": "markdown",
      "source": [
        "#### **Q4.5.3**\n",
        "\n",
        "Run the Stochastic Gradient Descent (SGD) optimizer from the `torch.optim` package to train your classifier on the toy dataset. Use the entire dataset in each batch. Use a learning rate of $0.01$ (no other hyperparameters). You will need to write a training loop that uses the `.step()` function of the optimizer. Plot the solution and print the loss after 1000 iterations."
      ],
      "metadata": {
        "id": "BuSC2xTnKXVi"
      }
    },
    {
      "cell_type": "code",
      "source": [
        "import torch.optim as optim\n",
        "\n",
        "neuron = Neuron()\n",
        "# create your optimizer\n",
        "optimizer = optim.SGD(neuron.parameters(), lr=0.01)\n",
        "criterion = nn.CrossEntropyLoss()\n",
        "\n",
        "# training loop\n",
        "for i in range(10000):\n",
        "  ## -- ! code required\n",
        "  optimizer.zero_grad()\n",
        "  output = neuron(x)\n",
        "  loss = criterion(torch.cat((output, 1-output),1), y)\n",
        "  loss.backward()\n",
        "  optimizer.step()\n",
        "\n",
        "print(\"loss =\", loss.item())\n",
        "params = list(neuron.parameters())\n",
        "plot_soln(x, y, params)"
      ],
      "metadata": {
        "id": "GS46HQMkKauA",
        "colab": {
          "base_uri": "https://localhost:8080/",
          "height": 471
        },
        "outputId": "fd7ad1d8-0842-4dfe-92bc-2c02874d318e"
      },
      "execution_count": null,
      "outputs": [
        {
          "output_type": "stream",
          "name": "stdout",
          "text": [
            "loss = 0.3273821175098419\n",
            "w0 = 4.141496658325195 w1 = 2.4262382984161377 bias = -0.8129551410675049\n"
          ]
        },
        {
          "output_type": "display_data",
          "data": {
            "text/plain": [
              "<Figure size 640x480 with 1 Axes>"
            ],
            "image/png": "[encoded data removed]"
          },
          "metadata": {}
        }
      ]
    },
    {
      "cell_type": "markdown",
      "source": [
        "#### **Q4.5.4**\n",
        "\n",
        "How many thousands of iterations does it take (approximately) until the neuron learns to classify the data correctly?"
      ],
      "metadata": {
        "id": "cqZwdpZOKd4H"
      }
    },
    {
      "cell_type": "markdown",
      "source": [
        "#### <font color='blue'>**Q4.5.4 Solution**:</font>\n",
        "10,000 iterations"
      ],
      "metadata": {
        "id": "H7m8sNwzKwrd"
      }
    },
    {
      "cell_type": "markdown",
      "source": [
        "## **Q4.6**. Hidden space ablation\n",
        "\n",
        "Now let's look at the size of network's hidden space. We will create and train a **2-layer MLP** network on the [SVHN Dataset](https://pytorch.org/vision/stable/generated/torchvision.datasets.SVHN.html).\n",
        "\n",
        "The SVHN dataset consists of photos of house numbers, collected automatically using Google's Street View. Recognizing multi-digit numbers in photographs captured at street level is an important component of modern-day map making. Google’s Street View imagery contains hundreds of millions of geo-located 360 degree panoramic images. The ability to automatically transcribe an address number from a geo-located patch of pixels and associate the transcribed number with a known street address helps pinpoint, with a high degree of accuracy, the location of the building it represents. Below are example images from the dataset. Note that for this dataset, each image (32x32 pixels) has been cropped around a single number in its center, which is the number we want to classify.\n",
        "\n",
        "![SVHN images](https://www.researchgate.net/profile/Georgios-Drainakis/publication/346718116/figure/fig2/AS:966456476987393@1607432588092/Representation-of-SVHN-dataset.ppm)\n",
        "\n",
        "In the below code, we first download the SVHN dataset from `torchvision.datasets`. We then apply greyscaling and normalization using the `torchvision.transforms` library. Finally, we configure a dataloader that will be used during the training loop.\n",
        "\n",
        "**Note:** This question loosely follows the [Training a Classifier](https://pytorch.org/tutorials/beginner/blitz/cifar10_tutorial.html#sphx-glr-beginner-blitz-cifar10-tutorial-py) tutorial. Feel free to reference it if you get stuck.\n"
      ],
      "metadata": {
        "id": "eqTwq_jzLAPv"
      }
    },
    {
      "cell_type": "code",
      "source": [
        "import torch\n",
        "import torchvision\n",
        "import torchvision.transforms as transforms\n",
        "\n",
        "import matplotlib.pyplot as plt\n",
        "import numpy as np\n",
        "\n",
        "# function to show an image\n",
        "def imshow(img):\n",
        "    img = img / 2 + 0.5     # unnormalize\n",
        "    npimg = img.numpy()\n",
        "    plt.imshow(np.transpose(npimg, (1, 2, 0)))\n",
        "\n",
        "# initialize transformations\n",
        "transform = transforms.Compose(\n",
        "    [transforms.Grayscale(),\n",
        "     transforms.ToTensor(),\n",
        "     transforms.Normalize((0.5), (0.5))])\n",
        "\n",
        "# configure dataloader\n",
        "trainset = torchvision.datasets.SVHN(root='./data', split='train', transform=transform, download=True)\n",
        "trainloader = torch.utils.data.DataLoader(trainset, batch_size=4, shuffle=True, num_workers=2)\n",
        "\n",
        "classes = ('0', '1', '2', '3', '4', '5', '6', '7', '8', '9')\n",
        "\n",
        "\n",
        "\n",
        "# get some random training images\n",
        "dataiter = iter(trainloader)\n",
        "images, labels = next(dataiter)\n",
        "\n",
        "# show images\n",
        "imshow(torchvision.utils.make_grid(images))\n",
        "\n",
        "# print labels\n",
        "print(' '.join('%5s' % classes[labels[j]] for j in range(4)))"
      ],
      "metadata": {
        "id": "rEGwTHNILQs1",
        "colab": {
          "base_uri": "https://localhost:8080/",
          "height": 229
        },
        "outputId": "ef5fd792-4936-4188-d9ad-3a47fb165481"
      },
      "execution_count": null,
      "outputs": [
        {
          "output_type": "stream",
          "name": "stdout",
          "text": [
            "Using downloaded and verified file: ./data/train_32x32.mat\n",
            "    3     4     9     2\n"
          ]
        },
        {
          "output_type": "display_data",
          "data": {
            "text/plain": [
              "<Figure size 640x480 with 1 Axes>"
            ],
            "image/png": "[encoded data removed]"
          },
          "metadata": {}
        }
      ]
    },
    {
      "cell_type": "markdown",
      "source": [
        "#### **Q4.6.1** 2-layer MLP\n",
        "\n",
        "Next, we will train a 2-layer MLP on the data. We have defined a simple 2-layer MLP for you with two fully connected (linear) layers and ReLU activation. Note the variable `hidden_size` in the model, which we will tune to achieve optimal results.\n",
        "\n"
      ],
      "metadata": {
        "id": "_77fuOFUMrU4"
      }
    },
    {
      "cell_type": "code",
      "source": [
        "import torch.nn as nn\n",
        "import torch.nn.functional as F\n",
        "\n",
        "class Neuron(nn.Module):\n",
        "    def __init__(self, hidden_size):\n",
        "        super(Neuron, self).__init__()\n",
        "        self.l1 = nn.Linear(1024, hidden_size)\n",
        "        self.l2 = nn.Linear(hidden_size, 10)\n",
        "\n",
        "    def forward(self, x):\n",
        "        x = x.view(-1, 1024)\n",
        "        x = F.relu(self.l1(x))\n",
        "        x = self.l2(x)\n",
        "        return x"
      ],
      "metadata": {
        "id": "3J4X1qe1M1Yc"
      },
      "execution_count": null,
      "outputs": []
    },
    {
      "cell_type": "markdown",
      "source": [
        "You can check the number of parameters in the model by printing out the model summary."
      ],
      "metadata": {
        "id": "ek3-caRvNLZ3"
      }
    },
    {
      "cell_type": "code",
      "source": [
        "def model_summary(model):\n",
        "  print(\"model_summary\")\n",
        "  print()\n",
        "  print(\"Layer_name\"+\"\\t\"*7+\"Number of Parameters\")\n",
        "  print(\"=\"*100)\n",
        "  model_parameters = [layer for layer in model.parameters() if layer.requires_grad]\n",
        "  layer_name = [child for child in model.children()]\n",
        "  j = 0\n",
        "  total_params = 0\n",
        "  print(\"\\t\"*10)\n",
        "  for i in layer_name:\n",
        "    print()\n",
        "    param = 0\n",
        "    try:\n",
        "      bias = (i.bias is not None)\n",
        "    except:\n",
        "      bias = False\n",
        "    if not bias:\n",
        "      param =model_parameters[j].numel()+model_parameters[j+1].numel()\n",
        "      j = j+2\n",
        "    else:\n",
        "      param =model_parameters[j].numel()\n",
        "      j = j+1\n",
        "    print(str(i)+\"\\t\"*3+str(param))\n",
        "    total_params+=param\n",
        "  print(\"=\"*100)\n",
        "  print(f\"Total Params:{total_params}\")\n",
        "\n",
        "my_neuron = Neuron(10)\n",
        "model_summary(my_neuron)"
      ],
      "metadata": {
        "id": "9XftEldqNOGE",
        "colab": {
          "base_uri": "https://localhost:8080/"
        },
        "outputId": "6ac4d09a-fe6f-4959-f4b5-9106b6a21527"
      },
      "execution_count": null,
      "outputs": [
        {
          "output_type": "stream",
          "name": "stdout",
          "text": [
            "model_summary\n",
            "\n",
            "Layer_name\t\t\t\t\t\t\tNumber of Parameters\n",
            "====================================================================================================\n",
            "\t\t\t\t\t\t\t\t\t\t\n",
            "\n",
            "Linear(in_features=1024, out_features=10, bias=True)\t\t\t10240\n",
            "\n",
            "Linear(in_features=10, out_features=10, bias=True)\t\t\t10\n",
            "====================================================================================================\n",
            "Total Params:10250\n"
          ]
        }
      ]
    },
    {
      "cell_type": "markdown",
      "source": [
        "Instantiate the cross-entropy loss `criterion`, and an SGD optimizer from the `torch.optim` package with learning rate $.001$ and momentum $.9$. You may also want to enable GPU training using `torch.device()`.\n",
        "\n",
        "**Use GPU in Colab**: click *Runtime* in the menu bar -> click *Change runtime type* -> select *T4 GPU*"
      ],
      "metadata": {
        "id": "E3QBmRnnNVho"
      }
    },
    {
      "cell_type": "code",
      "source": [
        "# solution here\n",
        "import torch\n",
        "import torch.optim as optim\n",
        "\n",
        "# initialize criterion and optimizer\n",
        "criterion = torch.nn.CrossEntropyLoss() ## -- ! code required\n",
        "optimizer = optim.SGD(my_neuron.parameters(), lr=0.001, momentum=0.9) ## -- ! code required\n",
        "\n",
        "device = torch.device(\"cuda:0\" if torch.cuda.is_available() else \"cpu\")\n",
        "# if we set the hardware to GPU in the Notebook settings, this should print a CUDA device:\n",
        "print(device)\n",
        "\n",
        "my_neuron.to(device)"
      ],
      "metadata": {
        "id": "oIYY-jgONbJ5",
        "colab": {
          "base_uri": "https://localhost:8080/"
        },
        "outputId": "546fa9d2-ee6d-4e60-86e3-b739efa5c54c"
      },
      "execution_count": null,
      "outputs": [
        {
          "output_type": "stream",
          "name": "stdout",
          "text": [
            "cuda:0\n"
          ]
        },
        {
          "output_type": "execute_result",
          "data": {
            "text/plain": [
              "Neuron(\n",
              "  (l1): Linear(in_features=1024, out_features=10, bias=True)\n",
              "  (l2): Linear(in_features=10, out_features=10, bias=True)\n",
              ")"
            ]
          },
          "metadata": {},
          "execution_count": 243
        }
      ]
    },
    {
      "cell_type": "markdown",
      "source": [
        "#### **Q4.6.2** Training\n",
        "\n",
        "Complete the training loop that makes five full passes through the dataset (five epochs) using SGD. Your batch size should be 4 and hidden size is 10."
      ],
      "metadata": {
        "id": "ds8on1jrNm_f"
      }
    },
    {
      "cell_type": "code",
      "source": [
        "my_neuron = Neuron(10).to(device)\n",
        "\n",
        "# reinitialize criterion and optimizer\n",
        "criterion = torch.nn.CrossEntropyLoss() ## -- ! code required\n",
        "optimizer = optim.SGD(my_neuron.parameters(), lr=0.001, momentum=0.9) ## -- ! code required\n",
        "\n",
        "# List to keep track of losses\n",
        "stats = []\n",
        "\n",
        "# Train for 5 epochs\n",
        "for epoch in range(5):\n",
        "  running_loss = 0.0\n",
        "  for i, data in enumerate(trainloader, 0):\n",
        "    inputs, labels = data\n",
        "    inputs, labels = inputs.to(device), labels.to(device) # Send to gpu\n",
        "\n",
        "    ## -- ! code required\n",
        "\n",
        "    optimizer.zero_grad()\n",
        "    output = my_neuron(inputs)\n",
        "    # guess = torch.max(output,dim = 1)\n",
        "    # guessfloat = guess[1].float()\n",
        "    # print(output)\n",
        "    # print(guessfloat)\n",
        "    # print(guessfloat.dtype)\n",
        "    # print(labels)\n",
        "    loss = criterion(output, labels)\n",
        "    #new_loss = criterion(torch.cat((output, 1-output),1), labels)\n",
        "    #print(loss)\n",
        "    #print(new_loss)\n",
        "    #running_loss = criterion(guess[1].float(), labels.float())\n",
        "    loss.backward()\n",
        "    optimizer.step()\n",
        "\n",
        "\n",
        "\n",
        "    # print statistics\n",
        "    running_loss += loss.item()\n",
        "    if i % 2000 == 1999:    # print every 2000 mini-batches\n",
        "        print('[%d, %5d] loss: %.3f' %\n",
        "              (epoch + 1, i + 1, running_loss / 2000))\n",
        "        stats.append(running_loss / 2000)\n",
        "        running_loss = 0.0\n"
      ],
      "metadata": {
        "id": "PltKmFRBNsQf",
        "colab": {
          "base_uri": "https://localhost:8080/"
        },
        "outputId": "7909caea-22c7-401b-cc05-916fd0acd981"
      },
      "execution_count": null,
      "outputs": [
        {
          "output_type": "stream",
          "name": "stdout",
          "text": [
            "[1,  2000] loss: 2.189\n",
            "[1,  4000] loss: 1.900\n",
            "[1,  6000] loss: 1.643\n",
            "[1,  8000] loss: 1.493\n",
            "[1, 10000] loss: 1.425\n",
            "[1, 12000] loss: 1.377\n",
            "[1, 14000] loss: 1.314\n",
            "[1, 16000] loss: 1.305\n",
            "[1, 18000] loss: 1.290\n",
            "[2,  2000] loss: 1.268\n",
            "[2,  4000] loss: 1.254\n",
            "[2,  6000] loss: 1.265\n",
            "[2,  8000] loss: 1.287\n",
            "[2, 10000] loss: 1.267\n",
            "[2, 12000] loss: 1.253\n",
            "[2, 14000] loss: 1.259\n",
            "[2, 16000] loss: 1.268\n",
            "[2, 18000] loss: 1.267\n",
            "[3,  2000] loss: 1.240\n",
            "[3,  4000] loss: 1.233\n",
            "[3,  6000] loss: 1.243\n",
            "[3,  8000] loss: 1.255\n",
            "[3, 10000] loss: 1.220\n",
            "[3, 12000] loss: 1.213\n",
            "[3, 14000] loss: 1.221\n",
            "[3, 16000] loss: 1.266\n",
            "[3, 18000] loss: 1.204\n",
            "[4,  2000] loss: 1.221\n",
            "[4,  4000] loss: 1.200\n",
            "[4,  6000] loss: 1.216\n",
            "[4,  8000] loss: 1.220\n",
            "[4, 10000] loss: 1.213\n",
            "[4, 12000] loss: 1.223\n",
            "[4, 14000] loss: 1.209\n",
            "[4, 16000] loss: 1.203\n",
            "[4, 18000] loss: 1.187\n",
            "[5,  2000] loss: 1.200\n",
            "[5,  4000] loss: 1.204\n",
            "[5,  6000] loss: 1.211\n",
            "[5,  8000] loss: 1.229\n",
            "[5, 10000] loss: 1.207\n",
            "[5, 12000] loss: 1.183\n",
            "[5, 14000] loss: 1.182\n",
            "[5, 16000] loss: 1.186\n",
            "[5, 18000] loss: 1.204\n"
          ]
        }
      ]
    },
    {
      "cell_type": "markdown",
      "source": [
        "Train the model again, but this time set the hidden size as 100."
      ],
      "metadata": {
        "id": "NhVF84uSN11e"
      }
    },
    {
      "cell_type": "code",
      "source": [
        "my_neuron_large = Neuron(100).to(device)\n",
        "\n",
        "# reinitialize criterion and optimizer\n",
        "criterion = torch.nn.CrossEntropyLoss() ## -- ! code required\n",
        "optimizer = optim.SGD(my_neuron_large.parameters(), lr=0.01) ## -- ! code required\n",
        "\n",
        "# List to keep track of losses\n",
        "stats_v2 = []\n",
        "\n",
        "# Train for 5 epochs\n",
        "for epoch in range(5):\n",
        "  running_loss = 0.0\n",
        "  for i, data in enumerate(trainloader, 0):\n",
        "    inputs, labels = data\n",
        "    inputs, labels = inputs.to(device), labels.to(device) # Send to gpu\n",
        "\n",
        "    ## -- ! code required\n",
        "    optimizer.zero_grad()\n",
        "    output = my_neuron_large(inputs)\n",
        "    loss = criterion(output, labels)\n",
        "    loss.backward()\n",
        "    optimizer.step()\n",
        "\n",
        "\n",
        "\n",
        "    # print statistics\n",
        "    running_loss += loss.item()\n",
        "    if i % 2000 == 1999:    # print every 2000 mini-batches\n",
        "        print('[%d, %5d] loss: %.3f' %\n",
        "              (epoch + 1, i + 1, running_loss / 2000))\n",
        "        stats_v2.append(running_loss / 2000)\n",
        "        running_loss = 0.0\n"
      ],
      "metadata": {
        "id": "GV5e0rIeN3ue",
        "colab": {
          "base_uri": "https://localhost:8080/"
        },
        "outputId": "d62475b0-e0f7-418c-da8b-98da3426d183"
      },
      "execution_count": null,
      "outputs": [
        {
          "output_type": "stream",
          "name": "stdout",
          "text": [
            "[1,  2000] loss: 2.147\n",
            "[1,  4000] loss: 1.681\n",
            "[1,  6000] loss: 1.399\n",
            "[1,  8000] loss: 1.228\n",
            "[1, 10000] loss: 1.139\n",
            "[1, 12000] loss: 1.126\n",
            "[1, 14000] loss: 1.035\n",
            "[1, 16000] loss: 1.011\n",
            "[1, 18000] loss: 0.964\n",
            "[2,  2000] loss: 0.917\n",
            "[2,  4000] loss: 0.894\n",
            "[2,  6000] loss: 0.904\n",
            "[2,  8000] loss: 0.893\n",
            "[2, 10000] loss: 0.858\n",
            "[2, 12000] loss: 0.839\n",
            "[2, 14000] loss: 0.835\n",
            "[2, 16000] loss: 0.811\n",
            "[2, 18000] loss: 0.806\n",
            "[3,  2000] loss: 0.769\n",
            "[3,  4000] loss: 0.756\n",
            "[3,  6000] loss: 0.750\n",
            "[3,  8000] loss: 0.739\n",
            "[3, 10000] loss: 0.773\n",
            "[3, 12000] loss: 0.754\n",
            "[3, 14000] loss: 0.734\n",
            "[3, 16000] loss: 0.717\n",
            "[3, 18000] loss: 0.727\n",
            "[4,  2000] loss: 0.677\n",
            "[4,  4000] loss: 0.686\n",
            "[4,  6000] loss: 0.690\n",
            "[4,  8000] loss: 0.686\n",
            "[4, 10000] loss: 0.692\n",
            "[4, 12000] loss: 0.656\n",
            "[4, 14000] loss: 0.693\n",
            "[4, 16000] loss: 0.687\n",
            "[4, 18000] loss: 0.681\n",
            "[5,  2000] loss: 0.655\n",
            "[5,  4000] loss: 0.657\n",
            "[5,  6000] loss: 0.657\n",
            "[5,  8000] loss: 0.645\n",
            "[5, 10000] loss: 0.665\n",
            "[5, 12000] loss: 0.624\n",
            "[5, 14000] loss: 0.643\n",
            "[5, 16000] loss: 0.628\n",
            "[5, 18000] loss: 0.642\n"
          ]
        }
      ]
    },
    {
      "cell_type": "markdown",
      "source": [
        "#### **Q4.6.3**\n",
        "Plot the loss curve during training for the two hidden size configurations.\n",
        "Compare the performance between the two configurations, and describe what you can learn from the plot."
      ],
      "metadata": {
        "id": "KBOd_2fJN8P0"
      }
    },
    {
      "cell_type": "code",
      "source": [
        "## -- ! code required\n",
        "import matplotlib.pyplot as plt\n",
        "#print(stats.item())\n",
        "#print(stats_v2.item())\n",
        "# statsplot = np.zeros(len(stats))\n",
        "# for i in range(statsplot.shape[0]):+\n",
        "#     statsplot[i] = stats[i].item()\n",
        "# stats_v2plot = np.zeros(len(stats_v2))\n",
        "# for i in range(stats_v2plot.shape[0]):\n",
        "#     stats_v2plot[i] = stats_v2[i].item()\n",
        "plt.plot(stats, label='NN(10)')\n",
        "plt.plot(stats_v2, label='NN(100)')\n",
        "plt.legend()\n",
        "plt.show()\n"
      ],
      "metadata": {
        "id": "1ONshHn6OFwG",
        "colab": {
          "base_uri": "https://localhost:8080/",
          "height": 430
        },
        "outputId": "c0e50d2f-eb77-4b57-af84-0da1a4ea9d24"
      },
      "execution_count": null,
      "outputs": [
        {
          "output_type": "display_data",
          "data": {
            "text/plain": [
              "<Figure size 640x480 with 1 Axes>"
            ],
            "image/png": "[encoded data removed]"
          },
          "metadata": {}
        }
      ]
    },
    {
      "cell_type": "markdown",
      "source": [
        "#### <font color='blue'>**Q4.6.3 Solution**:</font>\n",
        "\n",
        "The larger sized hidden layer neural network reaches a lower loss much more quickly than the 10 layer network.\n",
        "This helps to create a better fitting model, at the expense of significant extra computation time"
      ],
      "metadata": {
        "id": "RddENowOOG13"
      }
    }
  ]
}